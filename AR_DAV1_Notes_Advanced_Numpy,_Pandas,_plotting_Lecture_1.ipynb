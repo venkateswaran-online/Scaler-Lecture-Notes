{
  "nbformat": 4,
  "nbformat_minor": 0,
  "metadata": {
    "colab": {
      "provenance": [],
      "include_colab_link": true
    },
    "kernelspec": {
      "name": "python3",
      "display_name": "Python 3"
    },
    "language_info": {
      "name": "python"
    }
  },
  "cells": [
    {
      "cell_type": "markdown",
      "metadata": {
        "id": "view-in-github",
        "colab_type": "text"
      },
      "source": [
        "<a href=\"https://colab.research.google.com/github/venkateswaran-online/Scaler-Lecture-Notes/blob/main/AR_DAV1_Notes_Advanced_Numpy%2C_Pandas%2C_plotting_Lecture_1.ipynb\" target=\"_parent\"><img src=\"https://colab.research.google.com/assets/colab-badge.svg\" alt=\"Open In Colab\"/></a>"
      ]
    },
    {
      "cell_type": "markdown",
      "source": [
        "## **1. Introduction to the Dataset & Business Context**"
      ],
      "metadata": {
        "id": "SdkLke1Bho0V"
      }
    },
    {
      "cell_type": "markdown",
      "source": [
        "<table align=\"center\" width=\"100%\">\n",
        "    <tr>\n",
        "        <td width=\"35%\">\n",
        "            <img src=\"https://d2beiqkhq929f0.cloudfront.net/public_assets/assets/000/089/303/original/Cost-Estimation-to-develop-a-Restaurant-App-like-Zomato.jpg?1726057958\">\n",
        "        </td>\n",
        "        <td>\n",
        "            <div align=\"center\">\n",
        "                <font color=\"#e66e82\" size=\"5\">\n",
        "                    <b>Bangalore Restaurant Market Analysis</b>\n",
        "                </font>\n",
        "            </div>\n",
        "        </td>\n",
        "    </tr>\n",
        "</table>"
      ],
      "metadata": {
        "id": "Ecptma_JdmEU"
      }
    },
    {
      "cell_type": "markdown",
      "source": [
        "### About the Dataset and Business Case\n",
        "\n",
        "**Dataset:** <font color=\"violet\">**Zomato Bangalore**</font> 🍽  \n",
        "We are exploring restaurant data from **Zomato**, focusing on <font color=\"blue\">Bangalore</font>. By analyzing this data, we can understand:\n",
        "\n",
        "- Distribution of <font color=\"green\">**online ordering**</font> & <font color=\"green\">**table bookings**</font>.\n",
        "- Patterns in <font color=\"purple\">**ratings**</font>, <font color=\"orange\">**votes**</font>, and <font color=\"brown\">**cost**</font>.\n",
        "- Popular <font color=\"red\">**cuisines**</font> and their impact on business strategies.\n",
        "\n",
        "**Key Business Objectives:**\n",
        "1. <font color=\"teal\">**Optimize Offerings & Online Presence**</font>: Identify patterns in service availability.\n",
        "2. <font color=\"teal\">**Enhance Customer Experience**</font>: Uncover top-rated areas and improve satisfaction.\n",
        "3. <font color=\"teal\">**Increase Revenue**</font>: Target locations with high votes and premium pricing segments.\n",
        "4. <font color=\"teal\">**Leverage Popular Cuisines**</font>: Focus on in-demand cuisines for strategic planning.\n",
        "\n",
        "We’ll use this dataset as a running example to demonstrate techniques in data analysis and, later, how <font color=\"magenta\">**NumPy**</font> can help us handle numerical data efficiently.\n"
      ],
      "metadata": {
        "id": "NvzDlTQ-dgZ5"
      }
    },
    {
      "cell_type": "markdown",
      "source": [
        "For Students: Open this Sheet to take a look at the Data [link](https://docs.google.com/spreadsheets/d/1zcVsqjSWrY67_X7kbOIMIenuNVkoLyEeEz7NNly-WrY)"
      ],
      "metadata": {
        "id": "BM6Y5txO7LEn"
      }
    },
    {
      "cell_type": "markdown",
      "source": [
        "<font color=\"blue\">**Note:**</font> Here is our initial look at the data. We see columns like:\n",
        "- <font color=\"orange\">`votes`</font> (customer feedback intensity)\n",
        "- <font color=\"purple\">`rate`</font> (restaurant ratings)\n",
        "- <font color=\"red\">`cuisines`</font> & <font color=\"brown\">`approx_cost(for two people)`</font> (pricing info)\n",
        "\n",
        "This gives us context for the analyses we’ll perform.\n",
        "\n",
        "---"
      ],
      "metadata": {
        "id": "k-qeGYbwgxbT"
      }
    },
    {
      "cell_type": "markdown",
      "source": [
        "## **2. Introduction to Data Analysis & Visualization (DAV)**"
      ],
      "metadata": {
        "id": "YFk9S4UAhtEA"
      }
    },
    {
      "cell_type": "markdown",
      "source": [
        "### What is DAV? 💡\n",
        "\n",
        "**Data Analysis & Visualization (DAV)** is about using tools like <font color=\"green\">NumPy</font>, <font color=\"green\">Pandas</font>, <font color=\"green\">Matplotlib</font>, and <font color=\"green\">Seaborn</font> to understand, process, and present data meaningfully.\n",
        "\n",
        "### **Q&A on Zomato Dataset Insights:**\n",
        "\n",
        "1. **Q:** What is the overall average rating?  \n",
        "   **Answer:** 3.9\n",
        "\n",
        "2. **Q:** How many restaurants are in the dataset?  \n",
        "   **Answer:** 3159\n",
        "\n",
        "3. **Q:** How many restaurants offer online ordering vs. those that do not?  \n",
        "   **Answer:**  \n",
        "   **Online Ordering Availability:**\n",
        "   ```\n",
        "   online_order\n",
        "   Yes    16358\n",
        "   No      6835\n",
        "   ```\n",
        "\n",
        "4. **Q:** Which areas have the highest-rated restaurants?  \n",
        "   **(Top 10 Locations by Average Rating)**  \n",
        "   **Answer:**  \n",
        "   ![Highest Rated Restaurants](https://d2beiqkhq929f0.cloudfront.net/public_assets/assets/000/100/467/original/highest-rated_restaurants.png?1734428912)\n",
        "\n",
        "5. **Q:** How does the average cost for two people vary by location?  \n",
        "   **Answer:**  \n",
        "   ![Average Cost for Two People](https://d2beiqkhq929f0.cloudfront.net/public_assets/assets/000/100/468/original/average_cost_for_two_people.png?1734428927)\n",
        "\n",
        "6. **Q:** Which cuisines are more popular based on votes and ratings?  \n",
        "   **Answer:**  \n",
        "   ![Votes and Ratings](https://d2beiqkhq929f0.cloudfront.net/public_assets/assets/000/100/469/original/votes_and_ratings.png?1734428939)\n",
        "\n",
        "**These are the kinds of questions we aim to address throughout the DAV module.** By the end of this module, you’ll be able to use NumPy for efficient computations, Pandas for data manipulation, and Matplotlib/Seaborn for visual insights—empowering you to answer practical, business-driven questions like the ones above.\n",
        "\n",
        "For **Zomato**, DAV helps us:\n",
        "- Identify top-rated restaurants by area or cuisine.\n",
        "- Understand how pricing influences customer decisions.\n",
        "- Make data-driven improvements to restaurant offerings and marketing strategies.\n",
        "\n",
        "As we proceed, we’ll see how each tool and technique contributes to answering these questions and making sense of the data.\""
      ],
      "metadata": {
        "id": "ePlLdz1RdplL"
      }
    },
    {
      "cell_type": "code",
      "source": [
        "import numpy as np\n",
        "\n",
        "# Extracting numeric data as NumPy arrays for future analysis\n",
        "votes = np.array([ 775,  787,  918,   88,  166,  286, 2556,  324,  504,  402])\n",
        "costs = np.array([\"'800.0'\" ,\"'800.0'\", \"'800.0'\", \"'300.0'\", \"'600.0'\", \"'600.0'\", \"'600.0'\", \"'700.0'\" ,\"'550.0'\", \"'500.0'\"])\n",
        "\n",
        "print(\"Votes (Array):\", votes)\n",
        "print(\"Costs (Array):\", costs)"
      ],
      "metadata": {
        "colab": {
          "base_uri": "https://localhost:8080/"
        },
        "id": "-4XbqBeZC_e1",
        "outputId": "30d5c921-f30b-41ff-9dac-e32c912fa882"
      },
      "execution_count": null,
      "outputs": [
        {
          "output_type": "stream",
          "name": "stdout",
          "text": [
            "Votes (Array): [ 775  787  918   88  166  286 2556  324  504  402]\n",
            "Costs (Array): [\"'800.0'\" \"'800.0'\" \"'800.0'\" \"'300.0'\" \"'600.0'\" \"'600.0'\" \"'600.0'\"\n",
            " \"'700.0'\" \"'550.0'\" \"'500.0'\"]\n"
          ]
        }
      ]
    },
    {
      "cell_type": "markdown",
      "source": [
        "These <font color=\"magenta\">NumPy arrays</font> (`votes`, `costs`) are now ready for fast calculations, statistics, and transformations. We’ll soon see why arrays are central to efficient analysis.\n"
      ],
      "metadata": {
        "id": "0KAOPCVsheAB"
      }
    },
    {
      "cell_type": "markdown",
      "source": [
        "\n",
        "\n",
        "---\n",
        "\n",
        "\n",
        "## **3. Python Lists vs NumPy Arrays**\n",
        "\n",
        "### Why Use NumPy Arrays? 🚀\n",
        "\n",
        "<font color=\"magenta\">**NumPy**</font> is designed for:\n",
        "- **Speed & Performance**: Vectorized operations run in optimized C code under the hood.\n",
        "- **Memory Efficiency**: Contiguous data storage means less overhead, better cache utilization.\n",
        "- **Vectorized Operations**: Apply an operation to all elements without explicit loops.\n",
        "- **Time Complexity Advantages**: Bulk operations are straightforward and often faster than pure Python loops.\n",
        "\n",
        "\n",
        "<img src=\"https://d2beiqkhq929f0.cloudfront.net/public_assets/assets/000/063/995/original/download.png?1706870327\" width=700 height=175>\n",
        "\n",
        "\n",
        "In contrast, <font color=\"red\">**Python lists**</font>:\n",
        "- Are flexible but slower for large numeric computations.\n",
        "- Lack built-in methods for fast vectorized math.\n",
        "\n",
        "**Key Terms:**\n",
        "- <font color=\"blue\">**Performance**</font>\n",
        "- <font color=\"blue\">**Memory Efficiency**</font>\n",
        "- <font color=\"blue\">**Vectorization**</font>\n",
        "- <font color=\"blue\">**Scalability**</font>\n",
        "\n",
        "\n",
        "**Example:** Consider approximate costs for a few restaurants.\n"
      ],
      "metadata": {
        "id": "xxlAwQW4dyQM"
      }
    },
    {
      "cell_type": "code",
      "source": [
        "import time\n",
        "import numpy as np\n",
        "\n",
        "# Large list and array to compare performance\n",
        "large_list = list(range(1_000_000))\n",
        "large_array = np.arange(1_000_000)\n",
        "\n",
        "# Timing sum on a Python list\n",
        "start = time.time()\n",
        "sum_list = sum(large_list)\n",
        "end = time.time()\n",
        "list_time = end - start\n",
        "\n",
        "# Timing sum on a NumPy array\n",
        "start = time.time()\n",
        "sum_array = np.sum(large_array)\n",
        "end = time.time()\n",
        "array_time = end - start\n",
        "\n",
        "print(\"List sum time:\", list_time, \"seconds\")\n",
        "print(\"Array sum time:\", array_time, \"seconds\")"
      ],
      "metadata": {
        "colab": {
          "base_uri": "https://localhost:8080/"
        },
        "id": "EPIxd-LsdtI5",
        "outputId": "5730fb41-25cc-43ac-8f01-0f7bfefdaf5a"
      },
      "execution_count": null,
      "outputs": [
        {
          "output_type": "stream",
          "name": "stdout",
          "text": [
            "List sum time: 0.006956338882446289 seconds\n",
            "Array sum time: 0.0009212493896484375 seconds\n"
          ]
        }
      ]
    },
    {
      "cell_type": "markdown",
      "source": [
        "You’ll typically see a noticeable performance difference. Even basic operations can be faster with <font color=\"magenta\">**NumPy arrays**</font>.\n",
        "\n",
        "Another example: scaling all `votes` by 2 with NumPy."
      ],
      "metadata": {
        "id": "_Y3FGNRPiNDA"
      }
    },
    {
      "cell_type": "code",
      "source": [
        "votes_times_two = votes * 2\n",
        "votes_times_two"
      ],
      "metadata": {
        "colab": {
          "base_uri": "https://localhost:8080/"
        },
        "id": "AAhM57MliKLd",
        "outputId": "742be863-6a19-4995-ecf1-723a9edfe608"
      },
      "execution_count": null,
      "outputs": [
        {
          "output_type": "execute_result",
          "data": {
            "text/plain": [
              "array([1550, 1574, 1836,  176,  332,  572, 5112,  648, 1008,  804])"
            ]
          },
          "metadata": {},
          "execution_count": 3
        }
      ]
    },
    {
      "cell_type": "markdown",
      "source": [
        "No loops needed. Just a simple expression!\n",
        "\n",
        "As we proceed, we’ll dive deeper into array operations, dimensions, indexing, slicing, and aggregations—all made smoother, faster, and more intuitive thanks to **NumPy**.\n",
        "\n",
        "\n",
        "\n",
        "---\n",
        "\n"
      ],
      "metadata": {
        "id": "rnSdIU3eiRHu"
      }
    },
    {
      "cell_type": "markdown",
      "source": [
        "## **4. Dimensions & Shape**\n",
        "\n",
        "### Understanding Dimensions & Shape 🔍\n",
        "\n",
        "**NumPy arrays** can represent data in multiple dimensions:\n",
        "- **1D arrays**: Like a simple list of votes.\n",
        "- **2D arrays**: Think rows (restaurants) and columns (attributes).\n",
        "- **nD arrays**: Higher dimensions for more complex data.\n",
        "\n",
        "We use:\n",
        "- <font color=\"magenta\">`.shape`</font> to see (rows, columns)\n",
        "- <font color=\"magenta\">`.ndim`</font> to see how many dimensions\n",
        "- <font color=\"magenta\">`.size`</font> to count total elements\n",
        "\n",
        "Let’s inspect the dimensions of our `votes` and `costs` arrays.\n"
      ],
      "metadata": {
        "id": "mG7YqAGDit-6"
      }
    },
    {
      "cell_type": "code",
      "source": [
        "print(\"Votes array shape:\", votes.shape)\n",
        "print(\"Votes array dimensions:\", votes.ndim)\n",
        "print(\"Votes array size:\", votes.size)\n",
        "\n",
        "print(\"Costs array shape:\", costs.shape)\n",
        "print(\"Costs array dimensions:\", costs.ndim)\n",
        "print(\"Costs array size:\", costs.size)"
      ],
      "metadata": {
        "colab": {
          "base_uri": "https://localhost:8080/"
        },
        "id": "BSZwi2tXiQwt",
        "outputId": "0ce49a49-e9d7-40cb-a7fb-69b40e649f4a"
      },
      "execution_count": null,
      "outputs": [
        {
          "output_type": "stream",
          "name": "stdout",
          "text": [
            "Votes array shape: (10,)\n",
            "Votes array dimensions: 1\n",
            "Votes array size: 10\n",
            "Costs array shape: (10,)\n",
            "Costs array dimensions: 1\n",
            "Costs array size: 10\n"
          ]
        }
      ]
    },
    {
      "cell_type": "markdown",
      "source": [
        "- These are both 1D arrays.\n",
        "\n",
        "Now, let’s create a **2D array** example using a small portion of `votes` and `costs`."
      ],
      "metadata": {
        "id": "2R_D-72bi59t"
      }
    },
    {
      "cell_type": "code",
      "source": [
        "# Take first 5 elements of votes and costs\n",
        "subset_votes = votes\n",
        "subset_costs = costs\n",
        "\n",
        "# Create a 2D array: 5 rows, 2 columns (each row: [vote_count, cost])\n",
        "two_d_data = np.array([\n",
        "    subset_votes,\n",
        "    subset_costs\n",
        "]).T  # transpose so that each row corresponds to a single restaurant\n",
        "\n",
        "print(\"2D Array:\\n\", two_d_data)\n",
        "print(\"Shape:\", two_d_data.shape)\n",
        "print(\"Dimensions:\", two_d_data.ndim)\n",
        "print(\"Size:\", two_d_data.size)"
      ],
      "metadata": {
        "colab": {
          "base_uri": "https://localhost:8080/"
        },
        "id": "WvIPMRV0i1D9",
        "outputId": "9df9cdea-895a-4128-9412-c146d7fa7d86"
      },
      "execution_count": null,
      "outputs": [
        {
          "output_type": "stream",
          "name": "stdout",
          "text": [
            "2D Array:\n",
            " [['775' \"'800.0'\"]\n",
            " ['787' \"'800.0'\"]\n",
            " ['918' \"'800.0'\"]\n",
            " ['88' \"'300.0'\"]\n",
            " ['166' \"'600.0'\"]\n",
            " ['286' \"'600.0'\"]\n",
            " ['2556' \"'600.0'\"]\n",
            " ['324' \"'700.0'\"]\n",
            " ['504' \"'550.0'\"]\n",
            " ['402' \"'500.0'\"]]\n",
            "Shape: (10, 2)\n",
            "Dimensions: 2\n",
            "Size: 20\n"
          ]
        }
      ]
    },
    {
      "cell_type": "markdown",
      "source": [
        "We now have a 2D array where each row is a restaurant (limited sample), and columns represent different attributes (votes, cost).\n",
        "\n",
        "<img src=\"https://d2beiqkhq929f0.cloudfront.net/public_assets/assets/000/064/921/original/download_%284%29.png?1707852012\">\n",
        "\n",
        "We can even imagine a 3D array, but we’ll keep it simple for now. The key idea: dimensions define how data is structured for analysis.\n",
        "\n",
        "\n",
        "### **`np.arange()`**\n",
        "\n",
        "Let's create some sequences in  Numpy.\n",
        "\n",
        "We can pass **starting** point, **ending** point (not included in the array) and **step-size**.\n",
        "\n",
        "**Syntax:**\n",
        "- `arange(start, end, step)`\n",
        "\n"
      ],
      "metadata": {
        "id": "3vOdXy6Li8p4"
      }
    },
    {
      "cell_type": "code",
      "source": [
        "arr2 = np.arange(1, 5)\n",
        "arr2"
      ],
      "metadata": {
        "colab": {
          "base_uri": "https://localhost:8080/"
        },
        "id": "_4FEHvS6kEwA",
        "outputId": "f7e836f4-b08a-449f-9560-d1150728ef67"
      },
      "execution_count": null,
      "outputs": [
        {
          "output_type": "execute_result",
          "data": {
            "text/plain": [
              "array([1, 2, 3, 4])"
            ]
          },
          "metadata": {},
          "execution_count": 17
        }
      ]
    },
    {
      "cell_type": "code",
      "source": [
        "arr2_step = np.arange(1, 5, 2)\n",
        "arr2_step"
      ],
      "metadata": {
        "colab": {
          "base_uri": "https://localhost:8080/"
        },
        "id": "CyuQu5b8kFx7",
        "outputId": "e1eb7ac9-c376-471d-f9ce-2f27340a6c41"
      },
      "execution_count": null,
      "outputs": [
        {
          "output_type": "execute_result",
          "data": {
            "text/plain": [
              "array([1, 3])"
            ]
          },
          "metadata": {},
          "execution_count": 18
        }
      ]
    },
    {
      "cell_type": "markdown",
      "source": [
        "`np.arange()` behaves in the same way as `range()` function.\n",
        "\n",
        "**But then why not call it np.range?**\n",
        "\n",
        "- In `np.arange()`, we can pass a **floating point number** as **step-size**."
      ],
      "metadata": {
        "id": "swbT83yykGyg"
      }
    },
    {
      "cell_type": "code",
      "source": [
        "arr3 = np.arange(1, 5, 0.5)\n",
        "arr3"
      ],
      "metadata": {
        "colab": {
          "base_uri": "https://localhost:8080/"
        },
        "id": "QbCtv810kH3Z",
        "outputId": "05088414-62dd-4039-d236-fbcca43e2eff"
      },
      "execution_count": null,
      "outputs": [
        {
          "output_type": "execute_result",
          "data": {
            "text/plain": [
              "array([1. , 1.5, 2. , 2.5, 3. , 3.5, 4. , 4.5])"
            ]
          },
          "metadata": {},
          "execution_count": 19
        }
      ]
    },
    {
      "cell_type": "markdown",
      "source": [
        "\n",
        "\n",
        "---\n",
        "\n",
        "## **5. Type Conversion in NumPy Arrays**\n"
      ],
      "metadata": {
        "id": "lHvmq2TxkEnf"
      }
    },
    {
      "cell_type": "markdown",
      "source": [
        "### Type Conversion ⚙️\n",
        "\n",
        "In data analysis, numeric calculations require data to be in a proper numeric format.  \n",
        "If a column is read as an \"object\" (often a string) but represents numeric values, we must convert it.\n",
        "\n",
        "**Key points:**\n",
        "- Use <font color=\"magenta\">`.astype()`</font> to change data types.\n",
        "- Ensuring a numeric data type allows for mathematical operations (e.g., mean, sum).\n",
        "- Different data types (int, float) have implications for how values are stored and interpreted.\n",
        "- Mixed types (e.g., strings and integers in the same array) can cause issues or forced conversions.\n",
        "\n",
        "**Real-World Example:**\n",
        "- The `approx_cost(for two people)` column may appear as strings like `\"1,200\"` instead of a numeric value. We need to convert it to `int` or `float` for calculations."
      ],
      "metadata": {
        "id": "Is-H4vMFi-7F"
      }
    },
    {
      "cell_type": "code",
      "source": [
        "# STEP 1: Inspect the current dtype of 'approx_cost(for two people)'\n",
        "print(\"Column dtype before conversion:\", costs.dtype)"
      ],
      "metadata": {
        "colab": {
          "base_uri": "https://localhost:8080/"
        },
        "id": "3zxiIMNfi7ek",
        "outputId": "8ee513b7-757c-4c22-e9e4-1ae8a9474c73"
      },
      "execution_count": null,
      "outputs": [
        {
          "output_type": "stream",
          "name": "stdout",
          "text": [
            "Column dtype before conversion: <U7\n"
          ]
        }
      ]
    },
    {
      "cell_type": "code",
      "source": [
        "costs"
      ],
      "metadata": {
        "colab": {
          "base_uri": "https://localhost:8080/"
        },
        "id": "fclkVcdGnrZ_",
        "outputId": "249f765f-172a-4af3-d2f8-276cb1646871"
      },
      "execution_count": null,
      "outputs": [
        {
          "output_type": "execute_result",
          "data": {
            "text/plain": [
              "array([\"'800.0'\", \"'800.0'\", \"'800.0'\", \"'300.0'\", \"'600.0'\", \"'600.0'\",\n",
              "       \"'600.0'\", \"'700.0'\", \"'550.0'\", \"'500.0'\"], dtype='<U7')"
            ]
          },
          "metadata": {},
          "execution_count": 7
        }
      ]
    },
    {
      "cell_type": "markdown",
      "source": [
        "As you can see there are some \",\" that we should remove before converting them into float so that they do not give any error"
      ],
      "metadata": {
        "id": "ybRXQEDjn6VS"
      }
    },
    {
      "cell_type": "code",
      "source": [
        "# STEP 2: Remove commas and single quotes\n",
        "costs = np.char.replace(costs, ',', '')  # Remove commas np.char is similar to str.replace we use in python\n",
        "costs = np.char.replace(costs, \"'\", '')  # Remove single quotes\n",
        "\n",
        "# STEP 3: Convert the cleaned strings to float\n",
        "costs = costs.astype(float)\n",
        "\n",
        "# STEP 4: Confirm the dtype\n",
        "print(\"Array dtype after conversion:\", costs.dtype)\n",
        "print(\"Cleaned costs:\", costs)"
      ],
      "metadata": {
        "colab": {
          "base_uri": "https://localhost:8080/"
        },
        "id": "sD9HJVGekcD7",
        "outputId": "0e10bca9-131b-4cac-aade-79c49a59ac4d"
      },
      "execution_count": null,
      "outputs": [
        {
          "output_type": "stream",
          "name": "stdout",
          "text": [
            "Array dtype after conversion: float64\n",
            "Cleaned costs: [800. 800. 800. 300. 600. 600. 600. 700. 550. 500.]\n"
          ]
        }
      ]
    },
    {
      "cell_type": "markdown",
      "source": [
        "- We started with a column likely read as \"object\" (strings).\n",
        "- Removed commas to ensure values look like \"1200\" not \"1,200\".\n",
        "- Converted the cleaned string to an integer type.\n",
        "- Now `costs` is a proper integer array, ready for numeric analysis.\n"
      ],
      "metadata": {
        "id": "66sntweMrm8p"
      }
    },
    {
      "cell_type": "code",
      "source": [
        "# Convert costs to float\n",
        "costs_float = costs.astype(float)\n",
        "\n",
        "print(\"Costs as float, dtype:\", costs_float.dtype)\n",
        "print(\"First 5 costs (float):\", costs_float[:5])"
      ],
      "metadata": {
        "colab": {
          "base_uri": "https://localhost:8080/"
        },
        "id": "SySK3PHhrjHO",
        "outputId": "12395f82-3c7d-4eaf-92ab-6ca415ec8af6"
      },
      "execution_count": null,
      "outputs": [
        {
          "output_type": "stream",
          "name": "stdout",
          "text": [
            "Costs as float, dtype: float64\n",
            "First 5 costs (float): [800. 800. 800. 300. 600.]\n"
          ]
        }
      ]
    },
    {
      "cell_type": "markdown",
      "source": [
        "- Now all values are floating-point numbers, which is useful for operations that require decimals or non-integers.\n",
        "\n",
        "**What if the data were mixed types?**\n",
        "For example, consider this small array:\n"
      ],
      "metadata": {
        "id": "kblj-1zoruIV"
      }
    },
    {
      "cell_type": "code",
      "source": [
        "mixed_data = np.array([100, '200', 300, 'Hundred'])\n",
        "print(\"Mixed data array:\", mixed_data)\n",
        "print(\"Mixed data dtype:\", mixed_data.dtype)"
      ],
      "metadata": {
        "colab": {
          "base_uri": "https://localhost:8080/"
        },
        "id": "iFOVX-MorrJN",
        "outputId": "3fb1a4e0-5ec9-456c-f437-739c93737fa0"
      },
      "execution_count": null,
      "outputs": [
        {
          "output_type": "stream",
          "name": "stdout",
          "text": [
            "Mixed data array: ['100' '200' '300' 'Hundred']\n",
            "Mixed data dtype: <U21\n"
          ]
        }
      ]
    },
    {
      "cell_type": "markdown",
      "source": [
        "- Notice that if an array contains at least one string, NumPy will often interpret the entire array as a string type (`<U3` means Unicode string).\n",
        "- To do math, we must convert these strings to numeric types.\n",
        "- If conversion fails (e.g., a non-numeric string), it will raise an error.\n",
        "\n",
        "**Example: Converting mixed_data to int:**\n"
      ],
      "metadata": {
        "id": "hf1iaWCsrxfE"
      }
    },
    {
      "cell_type": "code",
      "source": [
        "# Convert the string values to int\n",
        "mixed_int = mixed_data.astype(int)\n",
        "print(\"Converted mixed data dtype:\", mixed_int.dtype)\n",
        "print(\"Mixed data as int:\", mixed_int)"
      ],
      "metadata": {
        "colab": {
          "base_uri": "https://localhost:8080/",
          "height": 193
        },
        "id": "qQMwD9v_rvNF",
        "outputId": "68c83568-6b5d-4c04-8ab9-4e690cbe4013"
      },
      "execution_count": null,
      "outputs": [
        {
          "output_type": "error",
          "ename": "ValueError",
          "evalue": "invalid literal for int() with base 10: 'Hundred'",
          "traceback": [
            "\u001b[0;31m---------------------------------------------------------------------------\u001b[0m",
            "\u001b[0;31mValueError\u001b[0m                                Traceback (most recent call last)",
            "\u001b[0;32m<ipython-input-13-8210405fe38f>\u001b[0m in \u001b[0;36m<cell line: 2>\u001b[0;34m()\u001b[0m\n\u001b[1;32m      1\u001b[0m \u001b[0;31m# Convert the string values to int\u001b[0m\u001b[0;34m\u001b[0m\u001b[0;34m\u001b[0m\u001b[0m\n\u001b[0;32m----> 2\u001b[0;31m \u001b[0mmixed_int\u001b[0m \u001b[0;34m=\u001b[0m \u001b[0mmixed_data\u001b[0m\u001b[0;34m.\u001b[0m\u001b[0mastype\u001b[0m\u001b[0;34m(\u001b[0m\u001b[0mint\u001b[0m\u001b[0;34m)\u001b[0m\u001b[0;34m\u001b[0m\u001b[0;34m\u001b[0m\u001b[0m\n\u001b[0m\u001b[1;32m      3\u001b[0m \u001b[0mprint\u001b[0m\u001b[0;34m(\u001b[0m\u001b[0;34m\"Converted mixed data dtype:\"\u001b[0m\u001b[0;34m,\u001b[0m \u001b[0mmixed_int\u001b[0m\u001b[0;34m.\u001b[0m\u001b[0mdtype\u001b[0m\u001b[0;34m)\u001b[0m\u001b[0;34m\u001b[0m\u001b[0;34m\u001b[0m\u001b[0m\n\u001b[1;32m      4\u001b[0m \u001b[0mprint\u001b[0m\u001b[0;34m(\u001b[0m\u001b[0;34m\"Mixed data as int:\"\u001b[0m\u001b[0;34m,\u001b[0m \u001b[0mmixed_int\u001b[0m\u001b[0;34m)\u001b[0m\u001b[0;34m\u001b[0m\u001b[0;34m\u001b[0m\u001b[0m\n",
            "\u001b[0;31mValueError\u001b[0m: invalid literal for int() with base 10: 'Hundred'"
          ]
        }
      ]
    },
    {
      "cell_type": "markdown",
      "source": [
        "- Now all elements are integers, enabling numeric operations.\n",
        "\n",
        "**Key Takeaways:**\n",
        "- Always ensure the data type matches the intended operation.\n",
        "- Use `.astype()` to convert strings to integers/floats.\n",
        "- Clean the data first (e.g., remove commas).\n",
        "- Mixed-type arrays become string arrays, so convert them if you need numeric calculations.\n",
        "\n",
        "With properly typed arrays, we can perform statistical calculations, filtering, and aggregations without issues.\n",
        "\n",
        "---"
      ],
      "metadata": {
        "id": "mIcqziKpr3Wm"
      }
    },
    {
      "cell_type": "markdown",
      "source": [
        "## **6. Indexing & Slicing**\n",
        "\n",
        "### Indexing & Slicing 🎯\n",
        "\n",
        "**Indexing** lets us select specific elements, while **slicing** extracts subsets.\n",
        "\n",
        "- **Basic indexing**: `array[index]`\n",
        "- **Slicing**: `array[start:end]`\n",
        "\n",
        "Examples:\n",
        "1. First 5 votes.\n",
        "2. A slice of the first 10 costs.\n",
        "3. For our 2D array, select the first 3 rows.\n"
      ],
      "metadata": {
        "id": "9vpHX2_ZsdfS"
      }
    },
    {
      "cell_type": "code",
      "source": [
        "votes[-1] # negative indexing in numpy array"
      ],
      "metadata": {
        "colab": {
          "base_uri": "https://localhost:8080/"
        },
        "id": "0IxAkPe4sif2",
        "outputId": "6bda6fa4-014d-435b-b763-020cd5e064a4"
      },
      "execution_count": null,
      "outputs": [
        {
          "output_type": "execute_result",
          "data": {
            "text/plain": [
              "402"
            ]
          },
          "metadata": {},
          "execution_count": 14
        }
      ]
    },
    {
      "cell_type": "code",
      "source": [
        "votes[0] # gives first element of array"
      ],
      "metadata": {
        "colab": {
          "base_uri": "https://localhost:8080/"
        },
        "id": "QFPq3VvWstSl",
        "outputId": "0cedb398-3281-4a0a-ee62-0f61ed3aa42a"
      },
      "execution_count": null,
      "outputs": [
        {
          "output_type": "execute_result",
          "data": {
            "text/plain": [
              "775"
            ]
          },
          "metadata": {},
          "execution_count": 15
        }
      ]
    },
    {
      "cell_type": "markdown",
      "source": [
        "You can also use list of indexes in numpy."
      ],
      "metadata": {
        "id": "Ktoxu7KXs4PY"
      }
    },
    {
      "cell_type": "code",
      "source": [
        "votes[[2,3,4,1,2,2]]"
      ],
      "metadata": {
        "colab": {
          "base_uri": "https://localhost:8080/"
        },
        "id": "12YOLsi0symN",
        "outputId": "4e1e9e5a-c1ba-4897-f90a-164f8b1933a4"
      },
      "execution_count": null,
      "outputs": [
        {
          "output_type": "execute_result",
          "data": {
            "text/plain": [
              "array([918,  88, 166, 787, 918, 918])"
            ]
          },
          "metadata": {},
          "execution_count": 16
        }
      ]
    },
    {
      "cell_type": "code",
      "source": [
        "print(\"First 5 votes:\", votes[:5])\n",
        "print(\"First 10 costs:\", costs[:10])\n",
        "\n",
        "# 2D array slicing (two_d_data from above)\n",
        "print(\"First 3 rows of the 2D array:\\n\", two_d_data[:3, :])"
      ],
      "metadata": {
        "colab": {
          "base_uri": "https://localhost:8080/"
        },
        "id": "eKuEZRZDr19d",
        "outputId": "f8100cbd-f1e7-4540-dbf5-b39e3afe7a43"
      },
      "execution_count": null,
      "outputs": [
        {
          "output_type": "stream",
          "name": "stdout",
          "text": [
            "First 5 votes: [775 787 918  88 166]\n",
            "First 10 costs: [800. 800. 800. 300. 600. 600. 600. 700. 550. 500.]\n",
            "First 3 rows of the 2D array:\n",
            " [['775' \"'800.0'\"]\n",
            " ['787' \"'800.0'\"]\n",
            " ['918' \"'800.0'\"]]\n"
          ]
        }
      ]
    },
    {
      "cell_type": "markdown",
      "source": [
        "- We can also slice columns. For example, `two_d_data[:, 0]` gives all votes, `two_d_data[:, 1]` gives all costs.\n",
        "- Indexing & slicing help us focus on relevant subsets, like top-rated restaurants or certain cost ranges."
      ],
      "metadata": {
        "id": "0JEA1uuGs6q-"
      }
    },
    {
      "cell_type": "markdown",
      "source": [
        "### Fancy Indexing (Masking)\n",
        "\n",
        "- Numpy arrays can be indexed with boolean arrays (masks).\n",
        "- This method is called **fancy indexing** or **masking**.\n",
        "\n",
        "\\\n",
        "What would happen if we do this?\n"
      ],
      "metadata": {
        "id": "9DDdtYPFtmMF"
      }
    },
    {
      "cell_type": "code",
      "source": [
        "ten_votes = votes[:10]\n",
        "\n",
        "print(ten_votes)\n",
        "\n",
        "votes[:10] < 800"
      ],
      "metadata": {
        "colab": {
          "base_uri": "https://localhost:8080/"
        },
        "id": "KwtoAOWjs2NV",
        "outputId": "9c58f0e2-f766-438a-f12a-1c061070f2cf"
      },
      "execution_count": null,
      "outputs": [
        {
          "output_type": "stream",
          "name": "stdout",
          "text": [
            "[ 775  787  918   88  166  286 2556  324  504  402]\n"
          ]
        },
        {
          "output_type": "execute_result",
          "data": {
            "text/plain": [
              "array([ True,  True, False,  True,  True,  True, False,  True,  True,\n",
              "        True])"
            ]
          },
          "metadata": {},
          "execution_count": 18
        }
      ]
    },
    {
      "cell_type": "markdown",
      "source": [
        "**Comparison operation also happens on each element**.\n",
        "- All the values before 800 return `True`\n",
        "- All the values after 800 return `False`\n",
        "\n"
      ],
      "metadata": {
        "id": "NILfFK1Bt6op"
      }
    },
    {
      "cell_type": "code",
      "source": [
        "ten_votes[[True,  True,  True,  True,  True, False, False, False, False, False]]"
      ],
      "metadata": {
        "colab": {
          "base_uri": "https://localhost:8080/"
        },
        "id": "jQyZYhyatsks",
        "outputId": "81c529eb-6518-4af8-f4f5-0d6bb3450d51"
      },
      "execution_count": null,
      "outputs": [
        {
          "output_type": "execute_result",
          "data": {
            "text/plain": [
              "array([775, 787, 918,  88, 166])"
            ]
          },
          "metadata": {},
          "execution_count": 19
        }
      ]
    },
    {
      "cell_type": "markdown",
      "source": [
        "Notice that we are passing a list of indices.\n",
        "- For every instance of `True`, it will print the corresponding index.\n",
        "- Conversely, for every `False`, it will skip the corresponding index, and not print it.\n",
        "\n",
        "So, this becomes a **filter** of sorts.\n",
        "\n",
        "Now, let's use this to filter or mask values from our array.\n",
        "\n",
        "**Condition will be passed instead of indices and slice ranges.**"
      ],
      "metadata": {
        "id": "YdTKs6VUuNPO"
      }
    },
    {
      "cell_type": "code",
      "source": [
        "ten_votes[ten_votes < 700]"
      ],
      "metadata": {
        "colab": {
          "base_uri": "https://localhost:8080/"
        },
        "id": "7nUsPGAct-hU",
        "outputId": "1f9d3cda-bc8d-4b98-8a1f-41a1a6ef65f9"
      },
      "execution_count": null,
      "outputs": [
        {
          "output_type": "execute_result",
          "data": {
            "text/plain": [
              "array([ 88, 166, 286, 324, 504, 402])"
            ]
          },
          "metadata": {},
          "execution_count": 20
        }
      ]
    },
    {
      "cell_type": "markdown",
      "source": [
        "This is known as Fancy Indexing in Numpy."
      ],
      "metadata": {
        "id": "lzCqAu84uS8G"
      }
    },
    {
      "cell_type": "code",
      "source": [
        "ten_votes[ten_votes%3 == 0]"
      ],
      "metadata": {
        "colab": {
          "base_uri": "https://localhost:8080/"
        },
        "id": "3aXg7YefuRY8",
        "outputId": "306c9607-d698-4ab0-d0b6-f1e8f3c4cb43"
      },
      "execution_count": null,
      "outputs": [
        {
          "output_type": "execute_result",
          "data": {
            "text/plain": [
              "array([ 918, 2556,  324,  504,  402])"
            ]
          },
          "metadata": {},
          "execution_count": 21
        }
      ]
    },
    {
      "cell_type": "markdown",
      "source": [
        "---\n",
        "\n",
        "## **7. Working with 2D Arrays (Matrices)**\n",
        "\n",
        "### Working with 2D Arrays (Matrices) 🧩\n",
        "\n",
        "**2D arrays** represent tabular data, like a matrix of restaurants (rows) and attributes (columns).\n",
        "\n",
        "We already have numeric arrays like `votes` and `costs`. Let’s create a small **2D array** using a subset of these columns. Each row represents one restaurant, and each column a numeric attribute.\n"
      ],
      "metadata": {
        "id": "25slMT03ubef"
      }
    },
    {
      "cell_type": "code",
      "source": [
        "# Take a sample of 50 restaurants\n",
        "sample_votes = np.array([775, 787, 918, 88, 166, 286, 2556, 324, 504, 402, 150, 164, 424, 918, 90, 133, 144, 93, 62, 180, 62, 148, 219, 506, 172, 415, 230, 1647, 4884, 133, 286, 540, 2556, 36, 244, 804, 679, 245, 345, 618, 1047, 627, 354, 244, 163, 808, 1720, 868, 520, 299])\n",
        "sample_costs = np.array([800.0, 800.0, 800.0, 300.0, 600.0, 600.0, 600.0, 700.0, 550.0, 500.0, 600.0, 500.0, 450.0, 800.0, 650.0, 800.0, 700.0, 300.0, 400.0, 500.0, 600.0, 550.0, 600.0, 500.0, 750.0, 500.0, 650.0, 600.0, 750.0, 200.0, 500.0, 800.0, 600.0, 400.0, 300.0, 450.0, 850.0, 300.0, 400.0, 750.0, 450.0, 450.0, 800.0, 800.0, 800.0, 850.0, 400.0, 1200.0, 300.0, 300.0])\n",
        "\n",
        "# Create a 2D array: rows = restaurants, columns = [votes, costs]\n",
        "restaurants_data = np.column_stack((sample_votes, sample_costs))\n",
        "\n",
        "print(\"2D Array (votes, costs):\\n\", restaurants_data)\n",
        "print(\"Shape:\", restaurants_data.shape)\n",
        "print(\"Dimensions:\", restaurants_data.ndim)  # 2D"
      ],
      "metadata": {
        "colab": {
          "base_uri": "https://localhost:8080/"
        },
        "id": "9ScP4hNOuYOk",
        "outputId": "92070495-469b-4d12-d8b1-f5e89b0e71d5"
      },
      "execution_count": null,
      "outputs": [
        {
          "output_type": "stream",
          "name": "stdout",
          "text": [
            "2D Array (votes, costs):\n",
            " [[ 775.  800.]\n",
            " [ 787.  800.]\n",
            " [ 918.  800.]\n",
            " [  88.  300.]\n",
            " [ 166.  600.]\n",
            " [ 286.  600.]\n",
            " [2556.  600.]\n",
            " [ 324.  700.]\n",
            " [ 504.  550.]\n",
            " [ 402.  500.]\n",
            " [ 150.  600.]\n",
            " [ 164.  500.]\n",
            " [ 424.  450.]\n",
            " [ 918.  800.]\n",
            " [  90.  650.]\n",
            " [ 133.  800.]\n",
            " [ 144.  700.]\n",
            " [  93.  300.]\n",
            " [  62.  400.]\n",
            " [ 180.  500.]\n",
            " [  62.  600.]\n",
            " [ 148.  550.]\n",
            " [ 219.  600.]\n",
            " [ 506.  500.]\n",
            " [ 172.  750.]\n",
            " [ 415.  500.]\n",
            " [ 230.  650.]\n",
            " [1647.  600.]\n",
            " [4884.  750.]\n",
            " [ 133.  200.]\n",
            " [ 286.  500.]\n",
            " [ 540.  800.]\n",
            " [2556.  600.]\n",
            " [  36.  400.]\n",
            " [ 244.  300.]\n",
            " [ 804.  450.]\n",
            " [ 679.  850.]\n",
            " [ 245.  300.]\n",
            " [ 345.  400.]\n",
            " [ 618.  750.]\n",
            " [1047.  450.]\n",
            " [ 627.  450.]\n",
            " [ 354.  800.]\n",
            " [ 244.  800.]\n",
            " [ 163.  800.]\n",
            " [ 808.  850.]\n",
            " [1720.  400.]\n",
            " [ 868. 1200.]\n",
            " [ 520.  300.]\n",
            " [ 299.  300.]]\n",
            "Shape: (50, 2)\n",
            "Dimensions: 2\n"
          ]
        }
      ]
    },
    {
      "cell_type": "markdown",
      "source": [
        "#### How can we convert this array to a 4-dimensional array?\n",
        "\n",
        "- Using `reshape()`\n",
        "\n",
        "For a 4D array, we will have to specify the followings :-\n",
        "- **First argument** is **no. of rows**\n",
        "- **Second argument** is **no. of columns**\n",
        "\n",
        "\\\n",
        "Let's try converting it into a `25x4` array."
      ],
      "metadata": {
        "id": "O9PO4LoHwxmZ"
      }
    },
    {
      "cell_type": "code",
      "source": [
        "restaurants_data.reshape(25, 4)\n",
        "\n",
        "restaurants_data"
      ],
      "metadata": {
        "colab": {
          "base_uri": "https://localhost:8080/"
        },
        "id": "Whn3jC1xvgsD",
        "outputId": "169b2151-826b-419c-f0ac-cc7b453682ee"
      },
      "execution_count": null,
      "outputs": [
        {
          "output_type": "execute_result",
          "data": {
            "text/plain": [
              "array([[ 775.,  800.],\n",
              "       [ 787.,  800.],\n",
              "       [ 918.,  800.],\n",
              "       [  88.,  300.],\n",
              "       [ 166.,  600.],\n",
              "       [ 286.,  600.],\n",
              "       [2556.,  600.],\n",
              "       [ 324.,  700.],\n",
              "       [ 504.,  550.],\n",
              "       [ 402.,  500.],\n",
              "       [ 150.,  600.],\n",
              "       [ 164.,  500.],\n",
              "       [ 424.,  450.],\n",
              "       [ 918.,  800.],\n",
              "       [  90.,  650.],\n",
              "       [ 133.,  800.],\n",
              "       [ 144.,  700.],\n",
              "       [  93.,  300.],\n",
              "       [  62.,  400.],\n",
              "       [ 180.,  500.],\n",
              "       [  62.,  600.],\n",
              "       [ 148.,  550.],\n",
              "       [ 219.,  600.],\n",
              "       [ 506.,  500.],\n",
              "       [ 172.,  750.],\n",
              "       [ 415.,  500.],\n",
              "       [ 230.,  650.],\n",
              "       [1647.,  600.],\n",
              "       [4884.,  750.],\n",
              "       [ 133.,  200.],\n",
              "       [ 286.,  500.],\n",
              "       [ 540.,  800.],\n",
              "       [2556.,  600.],\n",
              "       [  36.,  400.],\n",
              "       [ 244.,  300.],\n",
              "       [ 804.,  450.],\n",
              "       [ 679.,  850.],\n",
              "       [ 245.,  300.],\n",
              "       [ 345.,  400.],\n",
              "       [ 618.,  750.],\n",
              "       [1047.,  450.],\n",
              "       [ 627.,  450.],\n",
              "       [ 354.,  800.],\n",
              "       [ 244.,  800.],\n",
              "       [ 163.,  800.],\n",
              "       [ 808.,  850.],\n",
              "       [1720.,  400.],\n",
              "       [ 868., 1200.],\n",
              "       [ 520.,  300.],\n",
              "       [ 299.,  300.]])"
            ]
          },
          "metadata": {},
          "execution_count": 23
        }
      ]
    },
    {
      "cell_type": "code",
      "source": [
        "restaurants_data.reshape(10, 10)"
      ],
      "metadata": {
        "colab": {
          "base_uri": "https://localhost:8080/"
        },
        "id": "ytUGNkWkxk2A",
        "outputId": "8cf56118-5e38-44ae-c1f1-abe55b879ce5"
      },
      "execution_count": null,
      "outputs": [
        {
          "output_type": "execute_result",
          "data": {
            "text/plain": [
              "array([[ 775.,  800.,  787.,  800.,  918.,  800.,   88.,  300.,  166.,\n",
              "         600.],\n",
              "       [ 286.,  600., 2556.,  600.,  324.,  700.,  504.,  550.,  402.,\n",
              "         500.],\n",
              "       [ 150.,  600.,  164.,  500.,  424.,  450.,  918.,  800.,   90.,\n",
              "         650.],\n",
              "       [ 133.,  800.,  144.,  700.,   93.,  300.,   62.,  400.,  180.,\n",
              "         500.],\n",
              "       [  62.,  600.,  148.,  550.,  219.,  600.,  506.,  500.,  172.,\n",
              "         750.],\n",
              "       [ 415.,  500.,  230.,  650., 1647.,  600., 4884.,  750.,  133.,\n",
              "         200.],\n",
              "       [ 286.,  500.,  540.,  800., 2556.,  600.,   36.,  400.,  244.,\n",
              "         300.],\n",
              "       [ 804.,  450.,  679.,  850.,  245.,  300.,  345.,  400.,  618.,\n",
              "         750.],\n",
              "       [1047.,  450.,  627.,  450.,  354.,  800.,  244.,  800.,  163.,\n",
              "         800.],\n",
              "       [ 808.,  850., 1720.,  400.,  868., 1200.,  520.,  300.,  299.,\n",
              "         300.]])"
            ]
          },
          "metadata": {},
          "execution_count": 24
        }
      ]
    },
    {
      "cell_type": "code",
      "source": [
        "restaurants_data.reshape(50, 4)"
      ],
      "metadata": {
        "colab": {
          "base_uri": "https://localhost:8080/",
          "height": 141
        },
        "id": "VFCzhzJxxToR",
        "outputId": "c471d596-6d11-4393-cdeb-a69cb93986be"
      },
      "execution_count": null,
      "outputs": [
        {
          "output_type": "error",
          "ename": "ValueError",
          "evalue": "cannot reshape array of size 100 into shape (50,4)",
          "traceback": [
            "\u001b[0;31m---------------------------------------------------------------------------\u001b[0m",
            "\u001b[0;31mValueError\u001b[0m                                Traceback (most recent call last)",
            "\u001b[0;32m<ipython-input-25-5a24f26896a3>\u001b[0m in \u001b[0;36m<cell line: 1>\u001b[0;34m()\u001b[0m\n\u001b[0;32m----> 1\u001b[0;31m \u001b[0mrestaurants_data\u001b[0m\u001b[0;34m.\u001b[0m\u001b[0mreshape\u001b[0m\u001b[0;34m(\u001b[0m\u001b[0;36m50\u001b[0m\u001b[0;34m,\u001b[0m \u001b[0;36m4\u001b[0m\u001b[0;34m)\u001b[0m\u001b[0;34m\u001b[0m\u001b[0;34m\u001b[0m\u001b[0m\n\u001b[0m",
            "\u001b[0;31mValueError\u001b[0m: cannot reshape array of size 100 into shape (50,4)"
          ]
        }
      ]
    },
    {
      "cell_type": "markdown",
      "source": [
        "**This will give an Error. Why?**\n",
        "\n",
        "* We have 100 elements in `restaurants_data`, but `reshape(50, 4)` is trying to fill in `50x4 = 200` elements.\n",
        "* Therefore, whatever the shape we're trying to reshape to, must be able to incorporate the number of elements that we have."
      ],
      "metadata": {
        "id": "_1CdbEs1xsFo"
      }
    },
    {
      "cell_type": "code",
      "source": [
        "restaurants_data.reshape(5, -1)"
      ],
      "metadata": {
        "colab": {
          "base_uri": "https://localhost:8080/"
        },
        "id": "g9VWnoS3xoqU",
        "outputId": "551e2603-a81e-4d04-e9a9-a5df36d08c24"
      },
      "execution_count": null,
      "outputs": [
        {
          "output_type": "execute_result",
          "data": {
            "text/plain": [
              "array([[ 775.,  800.,  787.,  800.,  918.,  800.,   88.,  300.,  166.,\n",
              "         600.,  286.,  600., 2556.,  600.,  324.,  700.,  504.,  550.,\n",
              "         402.,  500.],\n",
              "       [ 150.,  600.,  164.,  500.,  424.,  450.,  918.,  800.,   90.,\n",
              "         650.,  133.,  800.,  144.,  700.,   93.,  300.,   62.,  400.,\n",
              "         180.,  500.],\n",
              "       [  62.,  600.,  148.,  550.,  219.,  600.,  506.,  500.,  172.,\n",
              "         750.,  415.,  500.,  230.,  650., 1647.,  600., 4884.,  750.,\n",
              "         133.,  200.],\n",
              "       [ 286.,  500.,  540.,  800., 2556.,  600.,   36.,  400.,  244.,\n",
              "         300.,  804.,  450.,  679.,  850.,  245.,  300.,  345.,  400.,\n",
              "         618.,  750.],\n",
              "       [1047.,  450.,  627.,  450.,  354.,  800.,  244.,  800.,  163.,\n",
              "         800.,  808.,  850., 1720.,  400.,  868., 1200.,  520.,  300.,\n",
              "         299.,  300.]])"
            ]
          },
          "metadata": {},
          "execution_count": 26
        }
      ]
    },
    {
      "cell_type": "markdown",
      "source": [
        "Notice that Python automatically figured out what should be the replacement of `-1` argument, given that the first argument is `8`.\n",
        "\n",
        "We can also put `-1` as the first argument. As long as one argument is given, it will calculate the other one."
      ],
      "metadata": {
        "id": "fkbk21Fqx9_r"
      }
    },
    {
      "cell_type": "markdown",
      "source": [
        "**Transpose:**  \n",
        "- Use <font color=\"magenta\">`.T`</font> to flip rows and columns.\n",
        "\n",
        "**Indexing & Slicing in 2D:**  \n",
        "- `restaurants_data[0, :]` = first row (all columns)\n",
        "- `restaurants_data[:, 1]` = second column (all rows)\n",
        "- `restaurants_data[2:5, :]` = rows 2 to 4"
      ],
      "metadata": {
        "id": "84QJv3G0vZVM"
      }
    },
    {
      "cell_type": "markdown",
      "source": [
        "<img src = https://d2beiqkhq929f0.cloudfront.net/public_assets/assets/000/054/693/original/2dnp.png?1697949471 height = \"600\" width = \"700\">"
      ],
      "metadata": {
        "id": "Hh9ab8IVyEuu"
      }
    },
    {
      "cell_type": "code",
      "source": [
        "print(\"Transpose of the 2D array:\\n\", restaurants_data.T)\n",
        "print(\"First row:\", restaurants_data[0, :])\n",
        "print(\"All costs (second column):\", restaurants_data[:, 1])\n",
        "print(\"Rows 2 to 4:\\n\", restaurants_data[2:5, :])"
      ],
      "metadata": {
        "colab": {
          "base_uri": "https://localhost:8080/"
        },
        "id": "9b2ub7lXvUG6",
        "outputId": "82891cdb-1543-4191-aa5e-e6e92f29702a"
      },
      "execution_count": null,
      "outputs": [
        {
          "output_type": "stream",
          "name": "stdout",
          "text": [
            "Transpose of the 2D array:\n",
            " [[ 775.  787.  918.   88.  166.  286. 2556.  324.  504.  402.  150.  164.\n",
            "   424.  918.   90.  133.  144.   93.   62.  180.   62.  148.  219.  506.\n",
            "   172.  415.  230. 1647. 4884.  133.  286.  540. 2556.   36.  244.  804.\n",
            "   679.  245.  345.  618. 1047.  627.  354.  244.  163.  808. 1720.  868.\n",
            "   520.  299.]\n",
            " [ 800.  800.  800.  300.  600.  600.  600.  700.  550.  500.  600.  500.\n",
            "   450.  800.  650.  800.  700.  300.  400.  500.  600.  550.  600.  500.\n",
            "   750.  500.  650.  600.  750.  200.  500.  800.  600.  400.  300.  450.\n",
            "   850.  300.  400.  750.  450.  450.  800.  800.  800.  850.  400. 1200.\n",
            "   300.  300.]]\n",
            "First row: [775. 800.]\n",
            "All costs (second column): [ 800.  800.  800.  300.  600.  600.  600.  700.  550.  500.  600.  500.\n",
            "  450.  800.  650.  800.  700.  300.  400.  500.  600.  550.  600.  500.\n",
            "  750.  500.  650.  600.  750.  200.  500.  800.  600.  400.  300.  450.\n",
            "  850.  300.  400.  750.  450.  450.  800.  800.  800.  850.  400. 1200.\n",
            "  300.  300.]\n",
            "Rows 2 to 4:\n",
            " [[918. 800.]\n",
            " [ 88. 300.]\n",
            " [166. 600.]]\n"
          ]
        }
      ]
    },
    {
      "cell_type": "markdown",
      "source": [
        "**Fancy Indexing (Masking):**  \n",
        "- Filter rows based on a condition. For example, restaurants with costs > 500.\n"
      ],
      "metadata": {
        "id": "QFscdK8MvfX-"
      }
    },
    {
      "cell_type": "code",
      "source": [
        "mask_high_cost = restaurants_data[:, 1] > 500\n",
        "high_cost_restaurants = restaurants_data[mask_high_cost]\n",
        "\n",
        "print(\"High cost restaurants (cost > 500):\\n\", high_cost_restaurants)"
      ],
      "metadata": {
        "colab": {
          "base_uri": "https://localhost:8080/"
        },
        "id": "Ox-Alc_zvcFT",
        "outputId": "97dd0353-3c56-4b63-c993-f049644e2fb8"
      },
      "execution_count": null,
      "outputs": [
        {
          "output_type": "stream",
          "name": "stdout",
          "text": [
            "High cost restaurants (cost > 500):\n",
            " [[ 775.  800.]\n",
            " [ 787.  800.]\n",
            " [ 918.  800.]\n",
            " [ 166.  600.]\n",
            " [ 286.  600.]\n",
            " [2556.  600.]\n",
            " [ 324.  700.]\n",
            " [ 504.  550.]\n",
            " [ 150.  600.]\n",
            " [ 918.  800.]\n",
            " [  90.  650.]\n",
            " [ 133.  800.]\n",
            " [ 144.  700.]\n",
            " [  62.  600.]\n",
            " [ 148.  550.]\n",
            " [ 219.  600.]\n",
            " [ 172.  750.]\n",
            " [ 230.  650.]\n",
            " [1647.  600.]\n",
            " [4884.  750.]\n",
            " [ 540.  800.]\n",
            " [2556.  600.]\n",
            " [ 679.  850.]\n",
            " [ 618.  750.]\n",
            " [ 354.  800.]\n",
            " [ 244.  800.]\n",
            " [ 163.  800.]\n",
            " [ 808.  850.]\n",
            " [ 868. 1200.]]\n"
          ]
        }
      ]
    },
    {
      "cell_type": "markdown",
      "source": [
        "- We can easily select subsets based on conditions, enabling targeted analysis.\n"
      ],
      "metadata": {
        "id": "8p8udQz0vhiU"
      }
    },
    {
      "cell_type": "markdown",
      "source": [
        "\n",
        "\n",
        "---\n",
        "\n",
        "## **8. Aggregate Functions**\n",
        "\n",
        "**Aggregate functions** summarize data 🔢:\n",
        "- `np.sum()` to total votes\n",
        "- `np.mean()` to find average cost\n",
        "- `np.min()/np.max()` to find min/max rating or cost\n",
        "- `np.std()` to measure spread\n",
        "\n",
        "We’ll use these on our numeric arrays to quickly derive insights.\n"
      ],
      "metadata": {
        "id": "TvvA6mr4yQ93"
      }
    },
    {
      "cell_type": "code",
      "source": [
        "# Total votes of these 10 restaurants\n",
        "total_votes = np.sum(restaurants_data[:, 0])\n",
        "\n",
        "# Average cost for these 10 restaurants\n",
        "avg_cost = np.mean(restaurants_data[:, 1])\n",
        "\n",
        "# Max votes, Min cost\n",
        "max_votes = np.max(restaurants_data[:, 0])\n",
        "min_cost = np.min(restaurants_data[:, 1])\n",
        "\n",
        "print(\"Total Votes:\", total_votes)\n",
        "print(\"Average Cost:\", avg_cost)\n",
        "print(\"Max Votes:\", max_votes)\n",
        "print(\"Min Cost:\", min_cost)"
      ],
      "metadata": {
        "colab": {
          "base_uri": "https://localhost:8080/"
        },
        "id": "CJs2u3cfx9LI",
        "outputId": "ac3da329-fa18-4327-9439-61ef71fcc3aa"
      },
      "execution_count": null,
      "outputs": [
        {
          "output_type": "stream",
          "name": "stdout",
          "text": [
            "Total Votes: 30583.0\n",
            "Average Cost: 587.0\n",
            "Max Votes: 4884.0\n",
            "Min Cost: 200.0\n"
          ]
        }
      ]
    },
    {
      "cell_type": "markdown",
      "source": [
        "- Aggregates help us understand overall trends quickly.\n",
        "- For the full dataset (not just the sample), we could apply the same functions to the entire `votes` or `costs` arrays.\n",
        "- This is crucial for highlighting overall patterns (e.g., average spend in the city or total engagement through votes).\n",
        "\n",
        "Now we can confidently summarize data, enabling high-level business insights.\n"
      ],
      "metadata": {
        "id": "Yu0GvW9PyhvN"
      }
    },
    {
      "cell_type": "code",
      "source": [
        "data = np.arange(12).reshape(3, 4)\n",
        "data"
      ],
      "metadata": {
        "colab": {
          "base_uri": "https://localhost:8080/"
        },
        "id": "fmZXznpOzCZJ",
        "outputId": "a3d281ec-4ea3-4e60-ffa9-a6f9958ca6ae"
      },
      "execution_count": null,
      "outputs": [
        {
          "output_type": "execute_result",
          "data": {
            "text/plain": [
              "array([[ 0,  1,  2,  3],\n",
              "       [ 4,  5,  6,  7],\n",
              "       [ 8,  9, 10, 11]])"
            ]
          },
          "metadata": {},
          "execution_count": 30
        }
      ]
    },
    {
      "cell_type": "markdown",
      "source": [
        "#### What if we want to do the elements row-wise or column-wise?\n",
        "\n",
        "- By **setting `axis` parameter**\n",
        "\n",
        "#### What will `np.sum(a, axis=0)` do?\n",
        "\n",
        "- `np.sum(a, axis=0)` adds together values in **different rows**\n",
        "- `axis = 0` $\\rightarrow$ **Changes will happen along the vertical axis**\n",
        "- Summation of values happen **in the vertical direction**.\n",
        "- Rows collapse/merge when we do `axis=0`."
      ],
      "metadata": {
        "id": "Dr3wcXoOzKZs"
      }
    },
    {
      "cell_type": "code",
      "source": [
        "np.sum(data, axis=0)"
      ],
      "metadata": {
        "colab": {
          "base_uri": "https://localhost:8080/"
        },
        "id": "8E2XlAT_zCV7",
        "outputId": "caef8731-f42f-4985-97cc-cbe473a9b896"
      },
      "execution_count": null,
      "outputs": [
        {
          "output_type": "execute_result",
          "data": {
            "text/plain": [
              "array([12, 15, 18, 21])"
            ]
          },
          "metadata": {},
          "execution_count": 31
        }
      ]
    },
    {
      "cell_type": "markdown",
      "source": [
        "#### What if we specify `axis=1`?\n",
        "\n",
        "- `np.sum(a, axis=1)` adds together values in **different columns**\n",
        "- `axis = 1` $\\rightarrow$ **Changes will happen along the horizontal axis**\n",
        "- Summation of values happen **in the horizontal direction**.\n",
        "- Columns collapse/merge when we do `axis=1`."
      ],
      "metadata": {
        "id": "y-KsmDymzAk1"
      }
    },
    {
      "cell_type": "code",
      "source": [
        "np.sum(data, axis=1)"
      ],
      "metadata": {
        "colab": {
          "base_uri": "https://localhost:8080/"
        },
        "id": "AbpysxFIybyg",
        "outputId": "3c80eabb-9479-4968-e771-723e93d5ab35"
      },
      "execution_count": null,
      "outputs": [
        {
          "output_type": "execute_result",
          "data": {
            "text/plain": [
              "array([ 6, 22, 38])"
            ]
          },
          "metadata": {},
          "execution_count": 32
        }
      ]
    },
    {
      "cell_type": "markdown",
      "source": [
        "\n",
        "\n",
        "---\n",
        "\n",
        "## **9. Logical Operations**\n",
        "\n",
        "**Logical operations** in NumPy help us filter and query data based on conditions. 🤔\n",
        "\n",
        "- <font color=\"magenta\">`np.where(condition)`</font>: Returns indices where the condition is True.\n",
        "- <font color=\"magenta\">`np.any(condition)`</font>: Checks if **any** elements satisfy a condition.\n",
        "- <font color=\"magenta\">`np.all(condition)`</font>: Checks if **all** elements satisfy a condition.\n",
        "\n",
        "**Use Cases:**\n",
        "- Find restaurants with certain attributes (e.g., cost above a threshold).\n",
        "- Check if at least one restaurant meets a condition (`np.any()`).\n",
        "- Check if all restaurants meet a certain standard (`np.all()`).\n"
      ],
      "metadata": {
        "id": "hQVvRL0ZziK5"
      }
    },
    {
      "cell_type": "code",
      "source": [
        "# Example: We have the 'costs' array from before\n",
        "# Let's find indices where cost > 1000\n",
        "high_cost_indices = np.where(costs > 1000)\n",
        "print(\"Indices of restaurants with cost > 1000:\", high_cost_indices)"
      ],
      "metadata": {
        "colab": {
          "base_uri": "https://localhost:8080/"
        },
        "id": "cwTf_iiJzhA4",
        "outputId": "066d0738-4333-4c00-f2d3-e9f23f2d9233"
      },
      "execution_count": null,
      "outputs": [
        {
          "output_type": "stream",
          "name": "stdout",
          "text": [
            "Indices of restaurants with cost > 1000: (array([], dtype=int64),)\n"
          ]
        }
      ]
    },
    {
      "cell_type": "code",
      "source": [
        "# Are there any restaurants with cost > 3000?\n",
        "any_above_3000 = np.any(costs > 3000)\n",
        "print(\"Any restaurant cost above 3000?\", any_above_3000)"
      ],
      "metadata": {
        "colab": {
          "base_uri": "https://localhost:8080/"
        },
        "id": "nuBRN2Ym0ct2",
        "outputId": "af276196-289b-4bc4-c23d-c31267a71ea4"
      },
      "execution_count": null,
      "outputs": [
        {
          "output_type": "stream",
          "name": "stdout",
          "text": [
            "Any restaurant cost above 3000? False\n"
          ]
        }
      ]
    },
    {
      "cell_type": "code",
      "source": [
        "# Are all restaurants cheaper than 5000?\n",
        "all_below_5000 = np.all(costs < 5000)\n",
        "print(\"All restaurants cost below 5000?\", all_below_5000)"
      ],
      "metadata": {
        "colab": {
          "base_uri": "https://localhost:8080/"
        },
        "id": "Ju2LxBHU0ePG",
        "outputId": "20338422-3cbb-4a6e-80f3-759317a8c07d"
      },
      "execution_count": null,
      "outputs": [
        {
          "output_type": "stream",
          "name": "stdout",
          "text": [
            "All restaurants cost below 5000? True\n"
          ]
        }
      ]
    },
    {
      "cell_type": "code",
      "source": [
        "# Using np.where to directly select values\n",
        "selected_costs = costs[np.where((costs > 500) & (costs < 1000))]\n",
        "print(\"Costs between 500 and 1000:\", selected_costs)"
      ],
      "metadata": {
        "colab": {
          "base_uri": "https://localhost:8080/"
        },
        "id": "eJK3po9t0fyO",
        "outputId": "25408d15-15e8-4abf-a482-48955e810c02"
      },
      "execution_count": null,
      "outputs": [
        {
          "output_type": "stream",
          "name": "stdout",
          "text": [
            "Costs between 500 and 1000: [800. 800. 800. 600. 600. 600. 700. 550.]\n"
          ]
        }
      ]
    },
    {
      "cell_type": "markdown",
      "source": [
        "- `np.where()` gives us flexibility in selecting elements or their indices based on a condition.\n",
        "- `np.any()` and `np.all()` quickly inform us about the existence or universality of a condition across the dataset.\n",
        "- These tools are critical for filtering data before applying further analysis or visualization.\n",
        "\n",
        "With logical operations, we can focus on the subsets of data that matter, speeding up our decision-making and insights discovery.\n",
        "\n",
        "\n",
        "\n",
        "---\n",
        "\n"
      ],
      "metadata": {
        "id": "19Fdg9jk0kk8"
      }
    }
  ]
}