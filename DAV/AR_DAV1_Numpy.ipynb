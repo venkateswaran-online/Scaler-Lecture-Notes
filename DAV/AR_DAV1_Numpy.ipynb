{
  "nbformat": 4,
  "nbformat_minor": 0,
  "metadata": {
    "colab": {
      "provenance": [],
      "include_colab_link": true
    },
    "kernelspec": {
      "name": "python3",
      "display_name": "Python 3"
    },
    "language_info": {
      "name": "python"
    }
  },
  "cells": [
    {
      "cell_type": "markdown",
      "metadata": {
        "id": "view-in-github",
        "colab_type": "text"
      },
      "source": [
        "<a href=\"https://colab.research.google.com/github/venkateswaran-online/Scaler-Lecture-Notes/blob/main/AR_DAV1_Numpy.ipynb\" target=\"_parent\"><img src=\"https://colab.research.google.com/assets/colab-badge.svg\" alt=\"Open In Colab\"/></a>"
      ]
    },
    {
      "cell_type": "code",
      "execution_count": null,
      "metadata": {
        "id": "Aqj1M3nHITq9"
      },
      "outputs": [],
      "source": [
        "l = [20,40,45]#sal in thousand"
      ]
    },
    {
      "cell_type": "code",
      "source": [
        "l +10"
      ],
      "metadata": {
        "colab": {
          "base_uri": "https://localhost:8080/",
          "height": 142
        },
        "id": "QnQBzZ68Uuuh",
        "outputId": "07dedfa4-6111-41eb-9fae-72f92f71d5b4"
      },
      "execution_count": null,
      "outputs": [
        {
          "output_type": "error",
          "ename": "TypeError",
          "evalue": "can only concatenate list (not \"int\") to list",
          "traceback": [
            "\u001b[0;31m---------------------------------------------------------------------------\u001b[0m",
            "\u001b[0;31mTypeError\u001b[0m                                 Traceback (most recent call last)",
            "\u001b[0;32m<ipython-input-9-1ae64f7ed0b5>\u001b[0m in \u001b[0;36m<cell line: 0>\u001b[0;34m()\u001b[0m\n\u001b[0;32m----> 1\u001b[0;31m \u001b[0ml\u001b[0m \u001b[0;34m+\u001b[0m\u001b[0;36m10\u001b[0m\u001b[0;34m\u001b[0m\u001b[0;34m\u001b[0m\u001b[0m\n\u001b[0m",
            "\u001b[0;31mTypeError\u001b[0m: can only concatenate list (not \"int\") to list"
          ]
        }
      ]
    },
    {
      "cell_type": "code",
      "source": [
        "import numpy as np"
      ],
      "metadata": {
        "id": "xB5G_9roU1_6"
      },
      "execution_count": null,
      "outputs": []
    },
    {
      "cell_type": "code",
      "source": [
        "ar1 = np.array(l)"
      ],
      "metadata": {
        "id": "pyc2N7LpVWzH"
      },
      "execution_count": null,
      "outputs": []
    },
    {
      "cell_type": "code",
      "source": [
        "ar1"
      ],
      "metadata": {
        "colab": {
          "base_uri": "https://localhost:8080/"
        },
        "id": "mrR-dvzxVw0c",
        "outputId": "499f2967-74cd-4d08-ee92-babff123489d"
      },
      "execution_count": null,
      "outputs": [
        {
          "output_type": "execute_result",
          "data": {
            "text/plain": [
              "array([20, 40, 45])"
            ]
          },
          "metadata": {},
          "execution_count": 6
        }
      ]
    },
    {
      "cell_type": "code",
      "source": [
        "ar1+10"
      ],
      "metadata": {
        "colab": {
          "base_uri": "https://localhost:8080/"
        },
        "id": "YD3k1txjVxRk",
        "outputId": "fd793801-2701-48eb-c012-9038214f3d1c"
      },
      "execution_count": null,
      "outputs": [
        {
          "output_type": "execute_result",
          "data": {
            "text/plain": [
              "array([30, 50, 55])"
            ]
          },
          "metadata": {},
          "execution_count": 7
        }
      ]
    },
    {
      "cell_type": "code",
      "source": [
        "import time\n",
        "import numpy as np\n",
        "\n",
        "# Large list and array to compare performance\n",
        "large_list = list(range(1_000_000))\n",
        "large_array = np.arange(1_000_000)\n",
        "\n",
        "# Timing sum on a Python list\n",
        "start = time.time()\n",
        "sum_list = sum(large_list)\n",
        "end = time.time()\n",
        "list_time = end - start\n",
        "\n",
        "# Timing sum on a NumPy array\n",
        "start = time.time()\n",
        "sum_array = np.sum(large_array)\n",
        "end = time.time()\n",
        "array_time = end - start\n",
        "\n",
        "print(\"List sum time:\", list_time, \"seconds\")\n",
        "print(\"Array sum time:\", array_time, \"seconds\")"
      ],
      "metadata": {
        "colab": {
          "base_uri": "https://localhost:8080/"
        },
        "id": "rucXh_GeVz1d",
        "outputId": "9e623ebe-3236-4f78-d5aa-b36029993941"
      },
      "execution_count": null,
      "outputs": [
        {
          "output_type": "stream",
          "name": "stdout",
          "text": [
            "List sum time: 0.00939035415649414 seconds\n",
            "Array sum time: 0.0019037723541259766 seconds\n"
          ]
        }
      ]
    },
    {
      "cell_type": "code",
      "source": [],
      "metadata": {
        "id": "qQz6v3TWaANw"
      },
      "execution_count": null,
      "outputs": []
    },
    {
      "cell_type": "code",
      "source": [
        "import numpy as np\n",
        "\n",
        "# Extracting numeric data as NumPy arrays for future analysis\n",
        "votes = np.array([ 775,  787,  918,   88,  166,  286, 2556,  324,  504,  402])\n",
        "costs = np.array([\"'800.0'\" ,\"'800.0'\", \"'800.0'\", \"'300.0'\", \"'600.0'\", \"'600.0'\", \"'600.0'\", \"'700.0'\" ,\"'550.0'\", \"'500.0'\"])\n",
        "\n",
        "print(\"Votes (Array):\", votes)\n",
        "print(\"Costs (Array):\", costs)"
      ],
      "metadata": {
        "colab": {
          "base_uri": "https://localhost:8080/"
        },
        "id": "wlO_TU32aAQa",
        "outputId": "4f381a8a-3563-4766-e900-448cb03d5224"
      },
      "execution_count": null,
      "outputs": [
        {
          "output_type": "stream",
          "name": "stdout",
          "text": [
            "Votes (Array): [ 775  787  918   88  166  286 2556  324  504  402]\n",
            "Costs (Array): [\"'800.0'\" \"'800.0'\" \"'800.0'\" \"'300.0'\" \"'600.0'\" \"'600.0'\" \"'600.0'\"\n",
            " \"'700.0'\" \"'550.0'\" \"'500.0'\"]\n"
          ]
        }
      ]
    },
    {
      "cell_type": "code",
      "source": [
        "#strings - \"800\""
      ],
      "metadata": {
        "id": "j9FARUULaAS6"
      },
      "execution_count": null,
      "outputs": []
    },
    {
      "cell_type": "code",
      "source": [
        "votes_times_two = votes * 2\n",
        "votes_times_two"
      ],
      "metadata": {
        "colab": {
          "base_uri": "https://localhost:8080/"
        },
        "id": "0pghDf_0aAWS",
        "outputId": "92e24f83-0d70-4a41-c969-7e0db86324b0"
      },
      "execution_count": null,
      "outputs": [
        {
          "output_type": "execute_result",
          "data": {
            "text/plain": [
              "array([1550, 1574, 1836,  176,  332,  572, 5112,  648, 1008,  804])"
            ]
          },
          "metadata": {},
          "execution_count": 12
        }
      ]
    },
    {
      "cell_type": "code",
      "source": [
        "a1 = np.array([1,2,3])\n",
        "a1"
      ],
      "metadata": {
        "colab": {
          "base_uri": "https://localhost:8080/"
        },
        "id": "lby60ODAcdAa",
        "outputId": "4d784173-5100-415c-a0e9-4b8b41812731"
      },
      "execution_count": null,
      "outputs": [
        {
          "output_type": "execute_result",
          "data": {
            "text/plain": [
              "array([1, 2, 3])"
            ]
          },
          "metadata": {},
          "execution_count": 13
        }
      ]
    },
    {
      "cell_type": "code",
      "source": [
        "a1.ndim"
      ],
      "metadata": {
        "colab": {
          "base_uri": "https://localhost:8080/"
        },
        "id": "6pLhTApecydi",
        "outputId": "c8e885c2-04ae-41a5-fb22-46bb71bd4c66"
      },
      "execution_count": null,
      "outputs": [
        {
          "output_type": "execute_result",
          "data": {
            "text/plain": [
              "1"
            ]
          },
          "metadata": {},
          "execution_count": 17
        }
      ]
    },
    {
      "cell_type": "code",
      "source": [
        "a1.shape # 1d  it is the count of elements"
      ],
      "metadata": {
        "colab": {
          "base_uri": "https://localhost:8080/"
        },
        "id": "y6j_MPIIdHQZ",
        "outputId": "eb914387-e99a-448e-c97c-379b688716e6"
      },
      "execution_count": null,
      "outputs": [
        {
          "output_type": "execute_result",
          "data": {
            "text/plain": [
              "(3,)"
            ]
          },
          "metadata": {},
          "execution_count": 20
        }
      ]
    },
    {
      "cell_type": "code",
      "source": [
        "a2 = np.array([[1,2,3],[4,5,6],[7,8,9],[10,1,12]])\n",
        "a2"
      ],
      "metadata": {
        "colab": {
          "base_uri": "https://localhost:8080/"
        },
        "id": "c9M53e9NchOM",
        "outputId": "869545df-198b-4764-c750-ab1969881e87"
      },
      "execution_count": null,
      "outputs": [
        {
          "output_type": "execute_result",
          "data": {
            "text/plain": [
              "array([[ 1,  2,  3],\n",
              "       [ 4,  5,  6],\n",
              "       [ 7,  8,  9],\n",
              "       [10,  1, 12]])"
            ]
          },
          "metadata": {},
          "execution_count": 14
        }
      ]
    },
    {
      "cell_type": "code",
      "source": [
        "a2.ndim"
      ],
      "metadata": {
        "colab": {
          "base_uri": "https://localhost:8080/"
        },
        "id": "_CptfoaPc4Ig",
        "outputId": "59557d6d-3349-49b6-e7a3-8c4a786791ce"
      },
      "execution_count": null,
      "outputs": [
        {
          "output_type": "execute_result",
          "data": {
            "text/plain": [
              "2"
            ]
          },
          "metadata": {},
          "execution_count": 18
        }
      ]
    },
    {
      "cell_type": "code",
      "source": [
        "a2.shape"
      ],
      "metadata": {
        "colab": {
          "base_uri": "https://localhost:8080/"
        },
        "id": "NKDX6QRqdRcH",
        "outputId": "256dbacb-aa8b-4651-d920-7cafee071296"
      },
      "execution_count": null,
      "outputs": [
        {
          "output_type": "execute_result",
          "data": {
            "text/plain": [
              "(4, 3)"
            ]
          },
          "metadata": {},
          "execution_count": 21
        }
      ]
    },
    {
      "cell_type": "code",
      "source": [
        "a3 = np.array([[[1,2,3],[4,5,6]],[[7,8,9],[10,1,12]]])\n",
        "a3"
      ],
      "metadata": {
        "colab": {
          "base_uri": "https://localhost:8080/"
        },
        "id": "KokVNyR0cpQU",
        "outputId": "9455aadf-578d-4097-cffc-e32c7f3acc70"
      },
      "execution_count": null,
      "outputs": [
        {
          "output_type": "execute_result",
          "data": {
            "text/plain": [
              "array([[[ 1,  2,  3],\n",
              "        [ 4,  5,  6]],\n",
              "\n",
              "       [[ 7,  8,  9],\n",
              "        [10,  1, 12]]])"
            ]
          },
          "metadata": {},
          "execution_count": 16
        }
      ]
    },
    {
      "cell_type": "code",
      "source": [
        "a3.ndim"
      ],
      "metadata": {
        "colab": {
          "base_uri": "https://localhost:8080/"
        },
        "id": "aAWu2PDbcpUG",
        "outputId": "82428a34-00fa-41d6-e79b-a9aaf3cfc974"
      },
      "execution_count": null,
      "outputs": [
        {
          "output_type": "execute_result",
          "data": {
            "text/plain": [
              "3"
            ]
          },
          "metadata": {},
          "execution_count": 19
        }
      ]
    },
    {
      "cell_type": "code",
      "source": [
        "a3.shape"
      ],
      "metadata": {
        "colab": {
          "base_uri": "https://localhost:8080/"
        },
        "id": "-DVJDGpxc79B",
        "outputId": "ea647fee-38de-446d-ab3e-18177e801b3f"
      },
      "execution_count": null,
      "outputs": [
        {
          "output_type": "execute_result",
          "data": {
            "text/plain": [
              "(2, 2, 3)"
            ]
          },
          "metadata": {},
          "execution_count": 22
        }
      ]
    },
    {
      "cell_type": "code",
      "source": [
        "votes"
      ],
      "metadata": {
        "colab": {
          "base_uri": "https://localhost:8080/"
        },
        "id": "C05obEu0dWUO",
        "outputId": "01c22c83-69f9-4201-f415-adf69876c541"
      },
      "execution_count": null,
      "outputs": [
        {
          "output_type": "execute_result",
          "data": {
            "text/plain": [
              "array([ 775,  787,  918,   88,  166,  286, 2556,  324,  504,  402])"
            ]
          },
          "metadata": {},
          "execution_count": 23
        }
      ]
    },
    {
      "cell_type": "code",
      "source": [
        "costs"
      ],
      "metadata": {
        "colab": {
          "base_uri": "https://localhost:8080/"
        },
        "id": "1i5t-m34d5_U",
        "outputId": "495d7bb9-2fc7-4b73-bd8d-f98c78f12e72"
      },
      "execution_count": null,
      "outputs": [
        {
          "output_type": "execute_result",
          "data": {
            "text/plain": [
              "array([\"'800.0'\", \"'800.0'\", \"'800.0'\", \"'300.0'\", \"'600.0'\", \"'600.0'\",\n",
              "       \"'600.0'\", \"'700.0'\", \"'550.0'\", \"'500.0'\"], dtype='<U7')"
            ]
          },
          "metadata": {},
          "execution_count": 24
        }
      ]
    },
    {
      "cell_type": "code",
      "source": [
        "votes.ndim"
      ],
      "metadata": {
        "colab": {
          "base_uri": "https://localhost:8080/"
        },
        "id": "RXZvx6u5d61n",
        "outputId": "cda1c459-adc7-40e3-cf09-9d863f501dc0"
      },
      "execution_count": null,
      "outputs": [
        {
          "output_type": "execute_result",
          "data": {
            "text/plain": [
              "1"
            ]
          },
          "metadata": {},
          "execution_count": 25
        }
      ]
    },
    {
      "cell_type": "code",
      "source": [
        "votes.shape"
      ],
      "metadata": {
        "colab": {
          "base_uri": "https://localhost:8080/"
        },
        "id": "nuQI1RugeWpk",
        "outputId": "5defe2e4-9cb3-4d0c-8ebd-bfffd61e2ee0"
      },
      "execution_count": null,
      "outputs": [
        {
          "output_type": "execute_result",
          "data": {
            "text/plain": [
              "(10,)"
            ]
          },
          "metadata": {},
          "execution_count": 26
        }
      ]
    },
    {
      "cell_type": "code",
      "source": [
        "(10,)"
      ],
      "metadata": {
        "colab": {
          "base_uri": "https://localhost:8080/"
        },
        "id": "aRCr6qkmel6K",
        "outputId": "2ee42191-30ea-4ba7-f056-ae62eae66ea0"
      },
      "execution_count": null,
      "outputs": [
        {
          "output_type": "execute_result",
          "data": {
            "text/plain": [
              "(10,)"
            ]
          },
          "metadata": {},
          "execution_count": 27
        }
      ]
    },
    {
      "cell_type": "code",
      "source": [
        "#np.array(l)"
      ],
      "metadata": {
        "id": "hhM0ggWwfJ9d"
      },
      "execution_count": null,
      "outputs": []
    },
    {
      "cell_type": "code",
      "source": [
        "two_d_data = np.array([\n",
        "    votes,costs\n",
        "])"
      ],
      "metadata": {
        "id": "uNnZukm1el-p"
      },
      "execution_count": null,
      "outputs": []
    },
    {
      "cell_type": "code",
      "source": [
        "two_d_data"
      ],
      "metadata": {
        "colab": {
          "base_uri": "https://localhost:8080/"
        },
        "id": "p-baeSBlfRU5",
        "outputId": "9770c225-680c-432c-86d8-450edbc91f68"
      },
      "execution_count": null,
      "outputs": [
        {
          "output_type": "execute_result",
          "data": {
            "text/plain": [
              "array([['775', '787', '918', '88', '166', '286', '2556', '324', '504',\n",
              "        '402'],\n",
              "       [\"'800.0'\", \"'800.0'\", \"'800.0'\", \"'300.0'\", \"'600.0'\", \"'600.0'\",\n",
              "        \"'600.0'\", \"'700.0'\", \"'550.0'\", \"'500.0'\"]], dtype='<U21')"
            ]
          },
          "metadata": {},
          "execution_count": 29
        }
      ]
    },
    {
      "cell_type": "code",
      "source": [
        "two_d_data.shape"
      ],
      "metadata": {
        "colab": {
          "base_uri": "https://localhost:8080/"
        },
        "id": "yY4QYG3EfRXf",
        "outputId": "fc40d62b-716a-4c61-b920-8deffc97874e"
      },
      "execution_count": null,
      "outputs": [
        {
          "output_type": "execute_result",
          "data": {
            "text/plain": [
              "(2, 10)"
            ]
          },
          "metadata": {},
          "execution_count": 30
        }
      ]
    },
    {
      "cell_type": "code",
      "source": [
        "two_d_data.T"
      ],
      "metadata": {
        "colab": {
          "base_uri": "https://localhost:8080/"
        },
        "id": "jFB2fvHCfRZ9",
        "outputId": "442dfaee-ce25-4431-d15f-2396d5df3615"
      },
      "execution_count": null,
      "outputs": [
        {
          "output_type": "execute_result",
          "data": {
            "text/plain": [
              "array([['775', \"'800.0'\"],\n",
              "       ['787', \"'800.0'\"],\n",
              "       ['918', \"'800.0'\"],\n",
              "       ['88', \"'300.0'\"],\n",
              "       ['166', \"'600.0'\"],\n",
              "       ['286', \"'600.0'\"],\n",
              "       ['2556', \"'600.0'\"],\n",
              "       ['324', \"'700.0'\"],\n",
              "       ['504', \"'550.0'\"],\n",
              "       ['402', \"'500.0'\"]], dtype='<U21')"
            ]
          },
          "metadata": {},
          "execution_count": 31
        }
      ]
    },
    {
      "cell_type": "code",
      "source": [],
      "metadata": {
        "id": "02XVZ8HHfRdV"
      },
      "execution_count": null,
      "outputs": []
    },
    {
      "cell_type": "code",
      "source": [
        "#string>float>int>bool"
      ],
      "metadata": {
        "id": "OGouDL2GfRfc"
      },
      "execution_count": null,
      "outputs": []
    },
    {
      "cell_type": "code",
      "source": [
        "costs"
      ],
      "metadata": {
        "colab": {
          "base_uri": "https://localhost:8080/"
        },
        "id": "aEaDvj_mhG2S",
        "outputId": "c3528f91-c30e-44bc-94f3-f9f0204f22a6"
      },
      "execution_count": null,
      "outputs": [
        {
          "output_type": "execute_result",
          "data": {
            "text/plain": [
              "array([\"'800.0'\", \"'800.0'\", \"'800.0'\", \"'300.0'\", \"'600.0'\", \"'600.0'\",\n",
              "       \"'600.0'\", \"'700.0'\", \"'550.0'\", \"'500.0'\"], dtype='<U7')"
            ]
          },
          "metadata": {},
          "execution_count": 33
        }
      ]
    },
    {
      "cell_type": "code",
      "source": [
        "np.char.replace(np.array([\"utkarsh\"]),\"ut\",\"HT\")"
      ],
      "metadata": {
        "colab": {
          "base_uri": "https://localhost:8080/"
        },
        "id": "-6N_GY5ziTYp",
        "outputId": "113d41da-4ed4-46fe-da1e-0484440157e2"
      },
      "execution_count": null,
      "outputs": [
        {
          "output_type": "execute_result",
          "data": {
            "text/plain": [
              "array(['HTkarsh'], dtype='<U7')"
            ]
          },
          "metadata": {},
          "execution_count": 35
        }
      ]
    },
    {
      "cell_type": "code",
      "source": [
        "#np.char.replace(costs, what needs to be replaced, what value you want to put)\n",
        "c = np.char.replace(costs, \"'\", '')\n",
        "c"
      ],
      "metadata": {
        "colab": {
          "base_uri": "https://localhost:8080/"
        },
        "id": "rTNUVvCDh6R6",
        "outputId": "19baef84-ed32-4807-efbd-c6045e261bb8"
      },
      "execution_count": null,
      "outputs": [
        {
          "output_type": "execute_result",
          "data": {
            "text/plain": [
              "array(['800.0', '800.0', '800.0', '300.0', '600.0', '600.0', '600.0',\n",
              "       '700.0', '550.0', '500.0'], dtype='<U5')"
            ]
          },
          "metadata": {},
          "execution_count": 38
        }
      ]
    },
    {
      "cell_type": "code",
      "source": [
        "c1 = c.astype(float)\n",
        "c1"
      ],
      "metadata": {
        "colab": {
          "base_uri": "https://localhost:8080/"
        },
        "id": "-XJxxOxfit2_",
        "outputId": "0644d9d0-6b63-480e-f1e9-4381e82e6ad2"
      },
      "execution_count": null,
      "outputs": [
        {
          "output_type": "execute_result",
          "data": {
            "text/plain": [
              "array([800., 800., 800., 300., 600., 600., 600., 700., 550., 500.])"
            ]
          },
          "metadata": {},
          "execution_count": 41
        }
      ]
    },
    {
      "cell_type": "code",
      "source": [],
      "metadata": {
        "id": "yNUZ7eMli2_E"
      },
      "execution_count": null,
      "outputs": []
    },
    {
      "cell_type": "code",
      "source": [
        "c1.astype(int)"
      ],
      "metadata": {
        "colab": {
          "base_uri": "https://localhost:8080/"
        },
        "id": "to_fpFYTi3B9",
        "outputId": "442046eb-1242-4c53-a6fd-cfd8056773a2"
      },
      "execution_count": null,
      "outputs": [
        {
          "output_type": "execute_result",
          "data": {
            "text/plain": [
              "array([800, 800, 800, 300, 600, 600, 600, 700, 550, 500])"
            ]
          },
          "metadata": {},
          "execution_count": 42
        }
      ]
    },
    {
      "cell_type": "code",
      "source": [
        "costs.dtype"
      ],
      "metadata": {
        "colab": {
          "base_uri": "https://localhost:8080/"
        },
        "id": "dssw8Q_khG43",
        "outputId": "1331a253-d3c5-46cf-bf43-8a3b829e0d4f"
      },
      "execution_count": null,
      "outputs": [
        {
          "output_type": "execute_result",
          "data": {
            "text/plain": [
              "dtype('<U7')"
            ]
          },
          "metadata": {},
          "execution_count": 32
        }
      ]
    },
    {
      "cell_type": "code",
      "source": [
        "mixed_data = np.array([100, '200', 300, 'gaurav'])\n",
        "mixed_data"
      ],
      "metadata": {
        "colab": {
          "base_uri": "https://localhost:8080/"
        },
        "id": "macn310whrg8",
        "outputId": "8d5ec079-ab49-4b86-b98c-8d1f6aa4810d"
      },
      "execution_count": null,
      "outputs": [
        {
          "output_type": "execute_result",
          "data": {
            "text/plain": [
              "array(['100', '200', '300', 'gaurav'], dtype='<U21')"
            ]
          },
          "metadata": {},
          "execution_count": 45
        }
      ]
    },
    {
      "cell_type": "code",
      "source": [
        "mixed_int = mixed_data.astype(int)"
      ],
      "metadata": {
        "colab": {
          "base_uri": "https://localhost:8080/",
          "height": 142
        },
        "id": "AO2ZVNI8jM5r",
        "outputId": "0720aed1-b1ba-4892-f406-a9d80c15741f"
      },
      "execution_count": null,
      "outputs": [
        {
          "output_type": "error",
          "ename": "ValueError",
          "evalue": "invalid literal for int() with base 10: np.str_('gaurav')",
          "traceback": [
            "\u001b[0;31m---------------------------------------------------------------------------\u001b[0m",
            "\u001b[0;31mValueError\u001b[0m                                Traceback (most recent call last)",
            "\u001b[0;32m<ipython-input-46-6091faad413f>\u001b[0m in \u001b[0;36m<cell line: 0>\u001b[0;34m()\u001b[0m\n\u001b[0;32m----> 1\u001b[0;31m \u001b[0mmixed_int\u001b[0m \u001b[0;34m=\u001b[0m \u001b[0mmixed_data\u001b[0m\u001b[0;34m.\u001b[0m\u001b[0mastype\u001b[0m\u001b[0;34m(\u001b[0m\u001b[0mint\u001b[0m\u001b[0;34m)\u001b[0m\u001b[0;34m\u001b[0m\u001b[0;34m\u001b[0m\u001b[0m\n\u001b[0m",
            "\u001b[0;31mValueError\u001b[0m: invalid literal for int() with base 10: np.str_('gaurav')"
          ]
        }
      ]
    },
    {
      "cell_type": "code",
      "source": [],
      "metadata": {
        "id": "mSXnYYKikFT7"
      },
      "execution_count": null,
      "outputs": []
    },
    {
      "cell_type": "code",
      "source": [
        "c1"
      ],
      "metadata": {
        "colab": {
          "base_uri": "https://localhost:8080/"
        },
        "id": "r3Mx8H8GkFWz",
        "outputId": "80fcca08-9c30-43b4-8951-cd3d666c30d7"
      },
      "execution_count": null,
      "outputs": [
        {
          "output_type": "execute_result",
          "data": {
            "text/plain": [
              "array([800., 800., 800., 300., 600., 600., 600., 700., 550., 500.])"
            ]
          },
          "metadata": {},
          "execution_count": 48
        }
      ]
    },
    {
      "cell_type": "code",
      "source": [
        "c1[7]"
      ],
      "metadata": {
        "colab": {
          "base_uri": "https://localhost:8080/"
        },
        "id": "uMs6xuJ6kFZj",
        "outputId": "88ecfbc8-1c97-42c3-d1eb-bba8d828154d"
      },
      "execution_count": null,
      "outputs": [
        {
          "output_type": "execute_result",
          "data": {
            "text/plain": [
              "np.float64(700.0)"
            ]
          },
          "metadata": {},
          "execution_count": 49
        }
      ]
    },
    {
      "cell_type": "code",
      "source": [
        "c1[-3]"
      ],
      "metadata": {
        "colab": {
          "base_uri": "https://localhost:8080/"
        },
        "id": "29ywHOgzkPHs",
        "outputId": "1dd489e2-d230-4c03-c413-657a50e4afaa"
      },
      "execution_count": null,
      "outputs": [
        {
          "output_type": "execute_result",
          "data": {
            "text/plain": [
              "np.float64(700.0)"
            ]
          },
          "metadata": {},
          "execution_count": 50
        }
      ]
    },
    {
      "cell_type": "code",
      "source": [
        "c1"
      ],
      "metadata": {
        "colab": {
          "base_uri": "https://localhost:8080/"
        },
        "id": "5_6HFkIDkSHU",
        "outputId": "39d74ea6-3e08-4926-c6ea-edd21469bd1f"
      },
      "execution_count": null,
      "outputs": [
        {
          "output_type": "execute_result",
          "data": {
            "text/plain": [
              "array([800., 800., 800., 300., 600., 600., 600., 700., 550., 500.])"
            ]
          },
          "metadata": {},
          "execution_count": 51
        }
      ]
    },
    {
      "cell_type": "code",
      "source": [
        "      0       1     2     3     4     5     6     7     8     9\n",
        "array([800., 800., 800., 300., 600., 600., 600., 700., 550., 500.])"
      ],
      "metadata": {
        "id": "2xvWkZhOk5E_"
      },
      "execution_count": null,
      "outputs": []
    },
    {
      "cell_type": "code",
      "source": [
        "#c1[start:end+1]\n",
        "c1[3:8+1]"
      ],
      "metadata": {
        "colab": {
          "base_uri": "https://localhost:8080/"
        },
        "id": "zMu9kVaRkzkT",
        "outputId": "2677c320-64fd-4cdb-fd03-ce5e59154d49"
      },
      "execution_count": null,
      "outputs": [
        {
          "output_type": "execute_result",
          "data": {
            "text/plain": [
              "array([300., 600., 600., 600., 700., 550.])"
            ]
          },
          "metadata": {},
          "execution_count": 53
        }
      ]
    },
    {
      "cell_type": "code",
      "source": [
        "c1[-7:-2+1]"
      ],
      "metadata": {
        "colab": {
          "base_uri": "https://localhost:8080/"
        },
        "id": "IqcnzRXQlCCA",
        "outputId": "c0a30211-3c0f-4381-ba60-26c046304383"
      },
      "execution_count": null,
      "outputs": [
        {
          "output_type": "execute_result",
          "data": {
            "text/plain": [
              "array([300., 600., 600., 600., 700., 550.])"
            ]
          },
          "metadata": {},
          "execution_count": 56
        }
      ]
    },
    {
      "cell_type": "code",
      "source": [
        "c1[3:3453445634]"
      ],
      "metadata": {
        "colab": {
          "base_uri": "https://localhost:8080/"
        },
        "id": "a3aAd09ZlgfF",
        "outputId": "12cb4d48-1010-4b91-d3cc-37d26e8ba9e3"
      },
      "execution_count": null,
      "outputs": [
        {
          "output_type": "execute_result",
          "data": {
            "text/plain": [
              "array([300., 600., 600., 600., 700., 550., 500.])"
            ]
          },
          "metadata": {},
          "execution_count": 58
        }
      ]
    },
    {
      "cell_type": "code",
      "source": [],
      "metadata": {
        "id": "1kmehgZplrJz"
      },
      "execution_count": null,
      "outputs": []
    }
  ]
}
