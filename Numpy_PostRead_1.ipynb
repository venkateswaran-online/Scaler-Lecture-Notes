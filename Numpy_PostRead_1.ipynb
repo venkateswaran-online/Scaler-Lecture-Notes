{
  "nbformat": 4,
  "nbformat_minor": 0,
  "metadata": {
    "colab": {
      "provenance": [],
      "include_colab_link": true
    },
    "kernelspec": {
      "name": "python3",
      "display_name": "Python 3"
    },
    "language_info": {
      "name": "python"
    }
  },
  "cells": [
    {
      "cell_type": "markdown",
      "metadata": {
        "id": "view-in-github",
        "colab_type": "text"
      },
      "source": [
        "<a href=\"https://colab.research.google.com/github/venkateswaran-online/Scaler-Lecture-Notes/blob/main/Numpy_PostRead_1.ipynb\" target=\"_parent\"><img src=\"https://colab.research.google.com/assets/colab-badge.svg\" alt=\"Open In Colab\"/></a>"
      ]
    },
    {
      "cell_type": "markdown",
      "source": [
        "## **1. Shallow vs. Deep Copy in NumPy 🧠**"
      ],
      "metadata": {
        "id": "Lle78RqSPbE3"
      }
    },
    {
      "cell_type": "markdown",
      "source": [
        "### 1. What are Shallow and Deep Copies 🧩 ?\n",
        "\n",
        "- **Shallow Copy**:\n",
        "  - Creates a new object, but the data **points to the same memory** as the original object.\n",
        "  - Changes in the original or the copy affect both.\n",
        "  \n",
        "- **Deep Copy**:\n",
        "  - Creates a new object with a **completely independent copy** of the data.\n",
        "  - Changes in one do not affect the other.\n"
      ],
      "metadata": {
        "id": "ZiTlHpesPdwV"
      }
    },
    {
      "cell_type": "markdown",
      "source": [
        "### Shallow Copy with <font color=\"greed\">np.view()</font>\n",
        "\n",
        "<font color=\"greed\">np.view()</font> creates a shallow copy of an array.  \n",
        "\n",
        "The new array shares memory with the original, meaning changes in one affect the other.\n",
        "\n",
        "Documentation: https://numpy.org/doc/stable/reference/generated/numpy.ndarray.view.html\n"
      ],
      "metadata": {
        "id": "mCIWXWpmPfju"
      }
    },
    {
      "cell_type": "code",
      "execution_count": null,
      "metadata": {
        "id": "z05jns9vPLoU"
      },
      "outputs": [],
      "source": [
        "import numpy as np\n",
        "\n",
        "# Original array\n",
        "array = np.array([1, 2, 3, 4])\n",
        "\n",
        "# Create a shallow copy using np.view()\n",
        "shallow_copy = array.view()"
      ]
    },
    {
      "cell_type": "code",
      "source": [
        "# Modify the original array\n",
        "array[1] = 99\n",
        "\n",
        "print(\"Original Array:\", array)\n",
        "print(\"Shallow Copy:\", shallow_copy)"
      ],
      "metadata": {
        "colab": {
          "base_uri": "https://localhost:8080/"
        },
        "id": "TfMz7sI-Pgnj",
        "outputId": "d54dc5b3-0f54-4c00-b05e-72285359c4e9"
      },
      "execution_count": null,
      "outputs": [
        {
          "output_type": "stream",
          "name": "stdout",
          "text": [
            "Original Array: [ 1 99  3  4]\n",
            "Shallow Copy: [ 1 99  3  4]\n"
          ]
        }
      ]
    },
    {
      "cell_type": "code",
      "source": [
        "# Verify memory sharing\n",
        "print(\"Shares Memory:\", np.shares_memory(array, shallow_copy))"
      ],
      "metadata": {
        "colab": {
          "base_uri": "https://localhost:8080/"
        },
        "id": "fxtCOedhPhG4",
        "outputId": "a2f8b4b4-0ec8-423b-cee3-9e47ebaa4f7e"
      },
      "execution_count": null,
      "outputs": [
        {
          "output_type": "stream",
          "name": "stdout",
          "text": [
            "Shares Memory: True\n"
          ]
        }
      ]
    },
    {
      "cell_type": "markdown",
      "source": [
        "**Explanation:**\n",
        "\n",
        "- Changes to `array` are reflected in `shallow_copy` because they share memory.\n",
        "- <font color=\"magenta\">np.shares_memory()</font> confirms this behavior.\n"
      ],
      "metadata": {
        "id": "t-TYIgOzPiX-"
      }
    },
    {
      "cell_type": "markdown",
      "source": [
        "### Deep Copy with <font color=\"gredd\">np.copy()</font>\n",
        "\n",
        "\n",
        "<font color=\"greed\">np.copy()</font> creates a deep copy, so changes in the original array do not affect the copy.\n",
        "\n",
        "Documentation: (`np.copy()`): https://numpy.org/doc/stable/reference/generated/numpy.copy.html"
      ],
      "metadata": {
        "id": "UlyTYAw9PjVs"
      }
    },
    {
      "cell_type": "code",
      "source": [
        "# Create a deep copy using np.copy()\n",
        "deep_copy = array.copy()\n",
        "\n",
        "# Modify the original array\n",
        "array[2] = 42\n",
        "\n",
        "print(\"Original Array:\", array)\n",
        "print(\"Deep Copy:\", deep_copy)"
      ],
      "metadata": {
        "colab": {
          "base_uri": "https://localhost:8080/"
        },
        "id": "7TgUH55-Phrw",
        "outputId": "fa234bdf-4a55-45b0-c0a6-655a01d0aba5"
      },
      "execution_count": null,
      "outputs": [
        {
          "output_type": "stream",
          "name": "stdout",
          "text": [
            "Original Array: [ 1 99 42  4]\n",
            "Deep Copy: [ 1 99  3  4]\n"
          ]
        }
      ]
    },
    {
      "cell_type": "code",
      "source": [
        "# Verify memory sharing\n",
        "print(\"Shares Memory:\", np.shares_memory(array, deep_copy))"
      ],
      "metadata": {
        "colab": {
          "base_uri": "https://localhost:8080/"
        },
        "id": "4zksdgPFPkGh",
        "outputId": "4447fb68-a8eb-4f3b-d167-b40bfc0f6d86"
      },
      "execution_count": null,
      "outputs": [
        {
          "output_type": "stream",
          "name": "stdout",
          "text": [
            "Shares Memory: False\n"
          ]
        }
      ]
    },
    {
      "cell_type": "markdown",
      "source": [
        "**Explanation:**\n",
        "\n",
        "- Changes to `array` do not affect `deep_copy`, confirming it is independent.\n",
        "- <font color=\"magenta\">np.shares_memory()</font> confirms no memory sharing.\n"
      ],
      "metadata": {
        "id": "ezWKtQfrPlgN"
      }
    },
    {
      "cell_type": "markdown",
      "source": [
        "### Heterogeneous Arrays in NumPy 🛠️\n",
        "\n",
        "\n",
        "NumPy arrays are designed to be **homogeneous** (all elements of the same type).  \n",
        "However, using <font color=\"greed\">dtype=object</font> , you can store heterogeneous data, like strings, lists, and numbers.\n",
        "\n"
      ],
      "metadata": {
        "id": "TMk7yq4aPmVQ"
      }
    },
    {
      "cell_type": "code",
      "source": [
        "# Create a heterogeneous array\n",
        "heterogeneous_array = np.array([1, \"hello\", [1, 2, 3]], dtype=object)\n",
        "\n",
        "print(\"Heterogeneous Array type:\", heterogeneous_array.dtype)\n",
        "print(\"Heterogeneous Array:\", heterogeneous_array)\n",
        "\n",
        "# Accessing elements\n",
        "print(\"Element 1 (int):\", heterogeneous_array[0])\n",
        "print(\"Element 2 (string):\", heterogeneous_array[1])\n",
        "print(\"Element 3 (list):\", heterogeneous_array[2])"
      ],
      "metadata": {
        "colab": {
          "base_uri": "https://localhost:8080/"
        },
        "id": "aZuLgdEVPk5w",
        "outputId": "a80f31a3-dd19-4f68-c401-61eae8f4bc3f"
      },
      "execution_count": null,
      "outputs": [
        {
          "output_type": "stream",
          "name": "stdout",
          "text": [
            "Heterogeneous Array type: object\n",
            "Heterogeneous Array: [1 'hello' list([1, 2, 3])]\n",
            "Element 1 (int): 1\n",
            "Element 2 (string): hello\n",
            "Element 3 (list): [1, 2, 3]\n"
          ]
        }
      ]
    },
    {
      "cell_type": "code",
      "source": [
        "# Modify an element\n",
        "heterogeneous_array[2].append(99)\n",
        "print(\"Modified Array:\", heterogeneous_array)"
      ],
      "metadata": {
        "colab": {
          "base_uri": "https://localhost:8080/"
        },
        "id": "k2DRggL3PnYp",
        "outputId": "38e14854-0a78-4bbd-c8b4-aad168a65ca1"
      },
      "execution_count": null,
      "outputs": [
        {
          "output_type": "stream",
          "name": "stdout",
          "text": [
            "Modified Array: [1 'hello' list([1, 2, 3, 99])]\n"
          ]
        }
      ]
    },
    {
      "cell_type": "markdown",
      "source": [
        "**Explanation:**\n",
        "\n",
        "<img src=\"https://d2beiqkhq929f0.cloudfront.net/public_assets/assets/000/065/263/original/img.png?1708017404\" width=\"700\" height=\"100\">\n",
        "\n",
        "\n",
        "- NumPy stores heterogeneous data as **pointers** in memory.\n",
        "- This sacrifices performance and breaks the usual NumPy benefits like vectorization."
      ],
      "metadata": {
        "id": "cxLzaBNdPoxo"
      }
    },
    {
      "cell_type": "markdown",
      "source": [
        "### Deep Copy with <font color=\"greed\">copy.deepcopy()</font>\n",
        "\n",
        "\n",
        "In the above cases (when using `dtype=object`), <font color=\"magenta\">np.copy()</font> behaves like a shallow copy.\n",
        "\n",
        "Use <font color=\"green\">copy.deepcopy()</font> from Python’s `copy` module for a true deep copy.\n"
      ],
      "metadata": {
        "id": "kaqLp2n5PqBm"
      }
    },
    {
      "cell_type": "code",
      "source": [
        "import copy\n",
        "\n",
        "# Create an array with dtype=object\n",
        "object_array = np.array([[\"hello\", [1, 2]], [\"world\", [3, 4]]], dtype=object)\n",
        "\n",
        "# Create a \"deep copy\" using np.copy()\n",
        "shallow_copy_np = object_array.copy()\n",
        "\n",
        "# Create a true deep copy using copy.deepcopy()\n",
        "deep_copy_py = copy.deepcopy(object_array)\n",
        "\n",
        "# Modify the nested list\n",
        "object_array[0][1][0] = 99\n",
        "\n",
        "print(\"Original Object Array:\", object_array)\n",
        "print(\"==\"*10)\n",
        "\n",
        "print(\"Shallow Copy (np.copy()):\", shallow_copy_np)\n",
        "print(\"==\"*10)\n",
        "\n",
        "print(\"Deep Copy (copy.deepcopy()):\", deep_copy_py)\n",
        "print(\"==\"*10)"
      ],
      "metadata": {
        "colab": {
          "base_uri": "https://localhost:8080/"
        },
        "id": "iOWTAZXOPoBZ",
        "outputId": "4efa3a44-dbd6-49e3-b424-14dc5030b85e"
      },
      "execution_count": null,
      "outputs": [
        {
          "output_type": "stream",
          "name": "stdout",
          "text": [
            "Original Object Array: [['hello' list([99, 2])]\n",
            " ['world' list([3, 4])]]\n",
            "====================\n",
            "Shallow Copy (np.copy()): [['hello' list([99, 2])]\n",
            " ['world' list([3, 4])]]\n",
            "====================\n",
            "Deep Copy (copy.deepcopy()): [['hello' list([1, 2])]\n",
            " ['world' list([3, 4])]]\n",
            "====================\n"
          ]
        }
      ]
    },
    {
      "cell_type": "markdown",
      "source": [
        "**Explanation:**\n",
        "\n",
        "- <font color=\"magenta\">np.copy()</font> behaves as a shallow copy for `dtype=object`, sharing memory with nested objects.\n",
        "- <font color=\"green\">copy.deepcopy()</font> creates a true deep copy, fully independent of the original.\n",
        "\n",
        "---\n"
      ],
      "metadata": {
        "id": "cWKFUuV0PrhC"
      }
    }
  ]
}