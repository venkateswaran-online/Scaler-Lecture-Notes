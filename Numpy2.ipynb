{
  "nbformat": 4,
  "nbformat_minor": 0,
  "metadata": {
    "colab": {
      "provenance": [],
      "include_colab_link": true
    },
    "kernelspec": {
      "name": "python3",
      "display_name": "Python 3"
    },
    "language_info": {
      "name": "python"
    }
  },
  "cells": [
    {
      "cell_type": "markdown",
      "metadata": {
        "id": "view-in-github",
        "colab_type": "text"
      },
      "source": [
        "<a href=\"https://colab.research.google.com/github/venkateswaran-online/Scaler-Lecture-Notes/blob/main/Numpy2.ipynb\" target=\"_parent\"><img src=\"https://colab.research.google.com/assets/colab-badge.svg\" alt=\"Open In Colab\"/></a>"
      ]
    },
    {
      "cell_type": "markdown",
      "source": [
        "\n",
        "Open this Sheet to take a look at the Data [link](https://docs.google.com/spreadsheets/d/1zcVsqjSWrY67_X7kbOIMIenuNVkoLyEeEz7NNly-WrY)\n",
        "\n"
      ],
      "metadata": {
        "id": "Y4yk2TuhP9ND"
      }
    },
    {
      "cell_type": "code",
      "source": [
        "import numpy as np\n",
        "\n",
        "# Extracting numeric data as NumPy arrays for future analysis\n",
        "votes = np.array([ 775,  787,  918,   88,  166,  286, 2556,  324,  504,  402])\n",
        "costs = np.array([\"'800.0'\" ,\"'800.0'\", \"'800.0'\", \"'300.0'\", \"'600.0'\", \"'600.0'\", \"'600.0'\", \"'700.0'\" ,\"'550.0'\", \"'500.0'\"])\n",
        "rate = np.array([4.1, 3.8, 4.0, 2.6, 1.1, 3.5, 4.7, 2.5, 2.8, 3.4])\n",
        "\n",
        "print(\"Votes (Array):\", votes)\n",
        "print(\"Costs (Array):\", costs)\n",
        "print(\"Ratings (Array):\", rate)"
      ],
      "metadata": {
        "colab": {
          "base_uri": "https://localhost:8080/"
        },
        "id": "ImEOMrYXKEy8",
        "outputId": "6c3303d1-699b-4140-bd1e-8e168da18c15"
      },
      "execution_count": null,
      "outputs": [
        {
          "output_type": "stream",
          "name": "stdout",
          "text": [
            "Votes (Array): [ 775  787  918   88  166  286 2556  324  504  402]\n",
            "Costs (Array): [\"'800.0'\" \"'800.0'\" \"'800.0'\" \"'300.0'\" \"'600.0'\" \"'600.0'\" \"'600.0'\"\n",
            " \"'700.0'\" \"'550.0'\" \"'500.0'\"]\n",
            "Ratings (Array): [4.1 3.8 4.  2.6 1.1 3.5 4.7 2.5 2.8 3.4]\n"
          ]
        }
      ]
    },
    {
      "cell_type": "code",
      "source": [
        "import numpy as np\n",
        "\n",
        "# Your numeric_data array\n",
        "numeric_data = np.array([\n",
        "    [4.1, 775.0, 800.0],\n",
        "    [3.8, 787.0, 800.0],\n",
        "    [4.0, 918.0, 800.0],\n",
        "    [2.6, 88.0, 300.0],\n",
        "    [1.1, 166.0, 600.0],\n",
        "    [3.5, 286.0, 600.0],\n",
        "    [4.7, 2556.0, 600.0],\n",
        "    [2.5, 324.0, 700.0],\n",
        "    [2.8, 504.0, 550.0],\n",
        "    [3.4, 402.0, 500.0]\n",
        "])\n",
        "\n",
        "# Just to display in a good way\n",
        "# Set print options to suppress scientific notation\n",
        "np.set_printoptions(suppress=True, precision=1)\n",
        "\n",
        "# Print the array\n",
        "print(\"Numeric data (formatted):\")\n",
        "print(numeric_data)"
      ],
      "metadata": {
        "colab": {
          "base_uri": "https://localhost:8080/"
        },
        "id": "Iv9N_4loLW-d",
        "outputId": "cdec48b7-17a8-4361-f146-711a82ba3807"
      },
      "execution_count": null,
      "outputs": [
        {
          "output_type": "stream",
          "name": "stdout",
          "text": [
            "Numeric data (formatted):\n",
            "[[   4.1  775.   800. ]\n",
            " [   3.8  787.   800. ]\n",
            " [   4.   918.   800. ]\n",
            " [   2.6   88.   300. ]\n",
            " [   1.1  166.   600. ]\n",
            " [   3.5  286.   600. ]\n",
            " [   4.7 2556.   600. ]\n",
            " [   2.5  324.   700. ]\n",
            " [   2.8  504.   550. ]\n",
            " [   3.4  402.   500. ]]\n"
          ]
        }
      ]
    },
    {
      "cell_type": "markdown",
      "source": [
        "\n",
        "\n",
        "---\n",
        "\n",
        "\n",
        "## **1. Sorting in NumPy**\n",
        "\n",
        "### 1. Sorting a 1D Array 🗂️\n",
        "\n",
        "We’ll sort a simple 1D array using:\n",
        "- <font color=\"magenta\">np.sort()</font>: Returns a sorted copy.\n",
        "- <font color=\"magenta\">np.argsort()</font>: Returns indices that would sort the array.\n"
      ],
      "metadata": {
        "id": "Uc83B0iXyP3K"
      }
    },
    {
      "cell_type": "code",
      "source": [
        "sorted_votes = np.sort(votes)       # Sort the votes\n",
        "print(\"Sorted Votes:\", sorted_votes[:10])  # Display the first 10 sorted values"
      ],
      "metadata": {
        "colab": {
          "base_uri": "https://localhost:8080/"
        },
        "id": "ma3n-dSQykQc",
        "outputId": "b8ed01f8-7416-45e1-a518-cd1927c60038"
      },
      "execution_count": null,
      "outputs": [
        {
          "output_type": "stream",
          "name": "stdout",
          "text": [
            "Sorted Votes: [  88  166  286  324  402  504  775  787  918 2556]\n"
          ]
        }
      ]
    },
    {
      "cell_type": "code",
      "source": [
        "sorted_indices = np.argsort(votes)  # Indices that would sort the votes\n",
        "print(\"Indices for Sorting:\", sorted_indices[:10])"
      ],
      "metadata": {
        "colab": {
          "base_uri": "https://localhost:8080/"
        },
        "id": "M_wb107lytLp",
        "outputId": "150ef787-a2b0-4857-b963-6ad30f601124"
      },
      "execution_count": null,
      "outputs": [
        {
          "output_type": "stream",
          "name": "stdout",
          "text": [
            "Indices for Sorting: [3 4 5 7 9 8 0 1 2 6]\n"
          ]
        }
      ]
    },
    {
      "cell_type": "markdown",
      "source": [
        "Explanation:\n",
        "\n",
        "- ```np.sort(votes)``` creates a sorted copy of the votes array without altering the original.\n",
        "- ```np.argsort(votes)``` provides the indices required to sort the array. Useful for sorting related columns."
      ],
      "metadata": {
        "id": "h7Zcbffpy6fj"
      }
    },
    {
      "cell_type": "markdown",
      "source": [
        "### 2. Sorting a 2D Array 📊\n",
        "\n",
        "Sorting can be done along rows or columns:\n",
        "- Use the <font color=\"Pink\">axis</font> parameter:\n",
        "  - `axis=0`: Sort each column.\n",
        "  - `axis=1`: Sort each row.\n"
      ],
      "metadata": {
        "id": "fUCQ74EQ0FXu"
      }
    },
    {
      "cell_type": "code",
      "source": [
        "# Example 2D array\n",
        "array_2d = np.array([[34, 11, 8],\n",
        "                     [7, 45, 18],\n",
        "                     [9, 23, 20]])\n",
        "\n",
        "# Sort along rows (axis=1)\n",
        "sorted_rows = np.sort(array_2d, axis=1)\n",
        "\n",
        "# Sort along columns (axis=0)\n",
        "sorted_columns = np.sort(array_2d, axis=0)\n",
        "\n",
        "print(\"Original 2D Array: \\n\", array_2d)\n",
        "print(\"---\"* 10)\n",
        "print(\"Sorted along Rows: \\n\", sorted_rows)\n",
        "print(\"---\"* 10)\n",
        "print(\"Sorted along Columns: \\n\", sorted_columns)"
      ],
      "metadata": {
        "colab": {
          "base_uri": "https://localhost:8080/"
        },
        "id": "hSxJb__VywVU",
        "outputId": "dac09df9-14ba-4593-d6a8-0802ffa9263e"
      },
      "execution_count": null,
      "outputs": [
        {
          "output_type": "stream",
          "name": "stdout",
          "text": [
            "Original 2D Array: \n",
            " [[34 11  8]\n",
            " [ 7 45 18]\n",
            " [ 9 23 20]]\n",
            "------------------------------\n",
            "Sorted along Rows: \n",
            " [[ 8 11 34]\n",
            " [ 7 18 45]\n",
            " [ 9 20 23]]\n",
            "------------------------------\n",
            "Sorted along Columns: \n",
            " [[ 7 11  8]\n",
            " [ 9 23 18]\n",
            " [34 45 20]]\n"
          ]
        }
      ]
    },
    {
      "cell_type": "markdown",
      "source": [
        "**Explanation:**\n",
        "\n",
        "- `axis=1` sorts each row independently.\n",
        "- `axis=0` sorts each column independently.\n",
        "\n",
        "\n",
        "\n",
        "\n",
        "\n"
      ],
      "metadata": {
        "id": "88cIhdrB0UOd"
      }
    },
    {
      "cell_type": "code",
      "source": [
        "# Sorting by ratings\n",
        "ratings = numeric_data[:, 0]  # Extract 'rate' column\n",
        "sorted_indices_by_rating = np.argsort(ratings)\n",
        "sorted_ratings = ratings[sorted_indices_by_rating]\n",
        "\n",
        "print(\"Sorted Ratings:\\n\", sorted_ratings[:10])  # Show top 10 sorted ratings"
      ],
      "metadata": {
        "colab": {
          "base_uri": "https://localhost:8080/"
        },
        "id": "QFS6GoUu17ZV",
        "outputId": "3dc52943-0836-4668-d0f6-9fd0aa5e95c0"
      },
      "execution_count": null,
      "outputs": [
        {
          "output_type": "stream",
          "name": "stdout",
          "text": [
            "Sorted Ratings:\n",
            " [1.1 2.5 2.6 2.8 3.4 3.5 3.8 4.  4.1 4.7]\n"
          ]
        }
      ]
    },
    {
      "cell_type": "markdown",
      "source": [
        "**Explanation:**\n",
        "- <font color=\"magenta\">np.argsort()</font> provides indices to sort the ratings.\n",
        "- We can use these indices to sort the corresponding rows or another column (e.g., costs or votes).\n",
        "\n",
        "\n",
        "\n",
        "---\n",
        "\n",
        "\n"
      ],
      "metadata": {
        "id": "lngpKAz-19HM"
      }
    },
    {
      "cell_type": "markdown",
      "source": [
        "## **2. Matrix Multiplication in NumPy**\n",
        "\n"
      ],
      "metadata": {
        "id": "znmWwLmu0aUA"
      }
    },
    {
      "cell_type": "markdown",
      "source": [
        "### 1. Element-wise Multiplication 🧮\n",
        "\n",
        "Element-wise multiplication multiplies corresponding elements in two arrays.\n",
        "This uses the <font color=\"red\">*</font> operator in NumPy.\n",
        "\n",
        "We’ll perform element-wise multiplication on numeric columns like:\n",
        "- `votes` and `rate`: To calculate a **weighted vote score**."
      ],
      "metadata": {
        "id": "1a3dMXO02Xxv"
      }
    },
    {
      "cell_type": "code",
      "source": [
        "# This is array multiply by array of same shape\n",
        "\n",
        "# Element-wise multiplication\n",
        "votes = numeric_data[:, 1]  # Extract 'votes'\n",
        "weighted_scores = votes * ratings\n",
        "\n",
        "print(\"Weighted scores (sample):\\n\", weighted_scores[:5])"
      ],
      "metadata": {
        "colab": {
          "base_uri": "https://localhost:8080/"
        },
        "id": "EOSwi6kx0Klr",
        "outputId": "b3cede7e-a05c-4d93-f645-f26075c123b2"
      },
      "execution_count": null,
      "outputs": [
        {
          "output_type": "stream",
          "name": "stdout",
          "text": [
            "Weighted scores (sample):\n",
            " [3177.5 2990.6 3672.   228.8  182.6]\n"
          ]
        }
      ]
    },
    {
      "cell_type": "markdown",
      "source": [
        "**Explanation:**\n",
        "\n",
        "- Element-wise multiplication combines ratings and votes to create a weighted metric.\n",
        "- This can be used for scoring restaurants based on popularity and quality.\n"
      ],
      "metadata": {
        "id": "-ohrHmhq2LDv"
      }
    },
    {
      "cell_type": "code",
      "source": [
        "# This is array multiply by number\n",
        "\n",
        "votes = numeric_data[:, 1]  # Extract 'votes'\n",
        "vote_by_5 = votes * 5\n",
        "\n",
        "print(vote_by_5[:5])"
      ],
      "metadata": {
        "colab": {
          "base_uri": "https://localhost:8080/"
        },
        "id": "n1ejLwc63gyU",
        "outputId": "e132ad1c-2bdb-4961-dc02-790b0dd43a52"
      },
      "execution_count": null,
      "outputs": [
        {
          "output_type": "stream",
          "name": "stdout",
          "text": [
            "[3875. 3935. 4590.  440.  830.]\n"
          ]
        }
      ]
    },
    {
      "cell_type": "code",
      "source": [
        "# This is array multiply by array of different shape\n",
        "\n",
        "votes = numeric_data[:, 1]  # Extract 'votes'\n",
        "vote_by_array = votes * np.array([1,2,3,4])\n",
        "\n",
        "print(vote_by_array)"
      ],
      "metadata": {
        "colab": {
          "base_uri": "https://localhost:8080/",
          "height": 211
        },
        "id": "DJoGtKR43upO",
        "outputId": "cd727fbd-5998-448b-ce83-1b31d69b2b26"
      },
      "execution_count": null,
      "outputs": [
        {
          "output_type": "error",
          "ename": "ValueError",
          "evalue": "operands could not be broadcast together with shapes (10,) (4,) ",
          "traceback": [
            "\u001b[0;31m---------------------------------------------------------------------------\u001b[0m",
            "\u001b[0;31mValueError\u001b[0m                                Traceback (most recent call last)",
            "\u001b[0;32m<ipython-input-24-feb384cd71b7>\u001b[0m in \u001b[0;36m<cell line: 4>\u001b[0;34m()\u001b[0m\n\u001b[1;32m      2\u001b[0m \u001b[0;34m\u001b[0m\u001b[0m\n\u001b[1;32m      3\u001b[0m \u001b[0mvotes\u001b[0m \u001b[0;34m=\u001b[0m \u001b[0mnumeric_data\u001b[0m\u001b[0;34m[\u001b[0m\u001b[0;34m:\u001b[0m\u001b[0;34m,\u001b[0m \u001b[0;36m1\u001b[0m\u001b[0;34m]\u001b[0m  \u001b[0;31m# Extract 'votes'\u001b[0m\u001b[0;34m\u001b[0m\u001b[0;34m\u001b[0m\u001b[0m\n\u001b[0;32m----> 4\u001b[0;31m \u001b[0mvote_by_array\u001b[0m \u001b[0;34m=\u001b[0m \u001b[0mvotes\u001b[0m \u001b[0;34m*\u001b[0m \u001b[0mnp\u001b[0m\u001b[0;34m.\u001b[0m\u001b[0marray\u001b[0m\u001b[0;34m(\u001b[0m\u001b[0;34m[\u001b[0m\u001b[0;36m1\u001b[0m\u001b[0;34m,\u001b[0m\u001b[0;36m2\u001b[0m\u001b[0;34m,\u001b[0m\u001b[0;36m3\u001b[0m\u001b[0;34m,\u001b[0m\u001b[0;36m4\u001b[0m\u001b[0;34m]\u001b[0m\u001b[0;34m)\u001b[0m\u001b[0;34m\u001b[0m\u001b[0;34m\u001b[0m\u001b[0m\n\u001b[0m\u001b[1;32m      5\u001b[0m \u001b[0;34m\u001b[0m\u001b[0m\n\u001b[1;32m      6\u001b[0m \u001b[0mprint\u001b[0m\u001b[0;34m(\u001b[0m\u001b[0mvote_by_array\u001b[0m\u001b[0;34m)\u001b[0m\u001b[0;34m\u001b[0m\u001b[0;34m\u001b[0m\u001b[0m\n",
            "\u001b[0;31mValueError\u001b[0m: operands could not be broadcast together with shapes (10,) (4,) "
          ]
        }
      ]
    },
    {
      "cell_type": "markdown",
      "source": [
        "**Takeaway:**\n",
        "\n",
        "- Array * Number $\\rightarrow$ WORKS\n",
        "- Array * Array (same shape) $\\rightarrow$ WORKS\n",
        "- Array * Array (different shape) $\\rightarrow$ DOES NOT WORK"
      ],
      "metadata": {
        "id": "SKHgv0233-K9"
      }
    },
    {
      "cell_type": "markdown",
      "source": [
        "### 2. Matrix Multiplication 📐\n",
        "\n",
        "We’ll calculate a transformation using:\n",
        "- **Ratings**, **Votes**, and **Approximate Costs**.\n",
        "- Methods:\n",
        "  - <font color=\"magenta\">np.dot()</font>\n",
        "  - <font color=\"magenta\">np.matmul()</font>\n",
        "  - <font color=\"magenta\">@</font> operator.\n"
      ],
      "metadata": {
        "id": "i7RBvBIt2P2M"
      }
    },
    {
      "cell_type": "code",
      "source": [
        "# Create a random transformation matrix\n",
        "transformation_matrix = np.array([[1.2, 0.8, 0.5],\n",
        "                                   [0.5, 1.5, 1.0],\n",
        "                                   [0.7, 0.6, 1.8]])\n",
        "\n",
        "# Matrix multiplication using np.dot()\n",
        "transformed_data_dot = np.dot(numeric_data, transformation_matrix)\n",
        "\n",
        "# Matrix multiplication using @ operator\n",
        "transformed_data_at = numeric_data @ transformation_matrix\n",
        "\n",
        "# Matrix multiplication using np.matmul()\n",
        "transformed_data_matmul = np.matmul(numeric_data, transformation_matrix)\n",
        "\n",
        "print(\"Transformed Data (np.dot):\\n\", transformed_data_dot[:5])\n",
        "print(\"---\"* 10)\n",
        "print(\"Transformed Data (@ operator):\\n\", transformed_data_at[:5])\n",
        "print(\"---\"* 10)\n",
        "print(\"Transformed Data (np.matmul):\\n\", transformed_data_matmul[:5])\n",
        "print(\"---\"* 10)"
      ],
      "metadata": {
        "colab": {
          "base_uri": "https://localhost:8080/"
        },
        "id": "U0792Ijn01zK",
        "outputId": "f8796818-59aa-4161-a17c-8a3a6dae888b"
      },
      "execution_count": null,
      "outputs": [
        {
          "output_type": "stream",
          "name": "stdout",
          "text": [
            "Transformed Data (np.dot):\n",
            " [[ 952.4 1645.8 2217.1]\n",
            " [ 958.1 1663.5 2228.9]\n",
            " [1023.8 1860.2 2360. ]\n",
            " [ 257.1  314.1  629.3]\n",
            " [ 504.3  609.9 1246.5]]\n",
            "------------------------------\n",
            "Transformed Data (@ operator):\n",
            " [[ 952.4 1645.8 2217.1]\n",
            " [ 958.1 1663.5 2228.9]\n",
            " [1023.8 1860.2 2360. ]\n",
            " [ 257.1  314.1  629.3]\n",
            " [ 504.3  609.9 1246.5]]\n",
            "------------------------------\n",
            "Transformed Data (np.matmul):\n",
            " [[ 952.4 1645.8 2217.1]\n",
            " [ 958.1 1663.5 2228.9]\n",
            " [1023.8 1860.2 2360. ]\n",
            " [ 257.1  314.1  629.3]\n",
            " [ 504.3  609.9 1246.5]]\n",
            "------------------------------\n"
          ]
        }
      ]
    },
    {
      "cell_type": "markdown",
      "source": [
        "**Explanation:**\n",
        "\n",
        "- A transformation matrix allows us to apply scaling and weighting to the original data.\n",
        "- <font color=\"magenta\">np.dot()</font>, <font color=\"magenta\">@</font>, and <font color=\"magenta\">np.matmul()</font> produce the same results for matrix multiplication.\n",
        "\n",
        "\n",
        "\n",
        "**Rule:** Number of columns of the first matrix should be equal to number of rows of the second matrix.\n",
        "\n",
        "- (A,B) * (B,C) -> (A,C)\n",
        "- (3,4) * (4,3) -> (3,3)\n",
        "\n",
        "Visual Demo: https://www.geogebra.org/m/ETHXK756\n",
        "\n",
        "\n",
        "\n"
      ],
      "metadata": {
        "id": "noE-WdL-2rci"
      }
    },
    {
      "cell_type": "code",
      "source": [
        "a = np.array([1,2,3,4])\n",
        "\n",
        "a@5"
      ],
      "metadata": {
        "colab": {
          "base_uri": "https://localhost:8080/",
          "height": 176
        },
        "id": "kuijvPOf2iKI",
        "outputId": "d122f3c3-a017-4412-e49f-a81581506e19"
      },
      "execution_count": null,
      "outputs": [
        {
          "output_type": "error",
          "ename": "ValueError",
          "evalue": "matmul: Input operand 1 does not have enough dimensions (has 0, gufunc core with signature (n?,k),(k,m?)->(n?,m?) requires 1)",
          "traceback": [
            "\u001b[0;31m---------------------------------------------------------------------------\u001b[0m",
            "\u001b[0;31mValueError\u001b[0m                                Traceback (most recent call last)",
            "\u001b[0;32m<ipython-input-26-074358c23db0>\u001b[0m in \u001b[0;36m<cell line: 3>\u001b[0;34m()\u001b[0m\n\u001b[1;32m      1\u001b[0m \u001b[0ma\u001b[0m \u001b[0;34m=\u001b[0m \u001b[0mnp\u001b[0m\u001b[0;34m.\u001b[0m\u001b[0marray\u001b[0m\u001b[0;34m(\u001b[0m\u001b[0;34m[\u001b[0m\u001b[0;36m1\u001b[0m\u001b[0;34m,\u001b[0m\u001b[0;36m2\u001b[0m\u001b[0;34m,\u001b[0m\u001b[0;36m3\u001b[0m\u001b[0;34m,\u001b[0m\u001b[0;36m4\u001b[0m\u001b[0;34m]\u001b[0m\u001b[0;34m)\u001b[0m\u001b[0;34m\u001b[0m\u001b[0;34m\u001b[0m\u001b[0m\n\u001b[1;32m      2\u001b[0m \u001b[0;34m\u001b[0m\u001b[0m\n\u001b[0;32m----> 3\u001b[0;31m \u001b[0ma\u001b[0m\u001b[0;34m@\u001b[0m\u001b[0;36m5\u001b[0m\u001b[0;34m\u001b[0m\u001b[0;34m\u001b[0m\u001b[0m\n\u001b[0m",
            "\u001b[0;31mValueError\u001b[0m: matmul: Input operand 1 does not have enough dimensions (has 0, gufunc core with signature (n?,k),(k,m?)->(n?,m?) requires 1)"
          ]
        }
      ]
    },
    {
      "cell_type": "code",
      "source": [
        "np.matmul(a, 5)"
      ],
      "metadata": {
        "colab": {
          "base_uri": "https://localhost:8080/",
          "height": 141
        },
        "id": "cW-RB1g24Jw_",
        "outputId": "63ad03bf-bb64-454f-e801-ba6e847f19a6"
      },
      "execution_count": null,
      "outputs": [
        {
          "output_type": "error",
          "ename": "ValueError",
          "evalue": "matmul: Input operand 1 does not have enough dimensions (has 0, gufunc core with signature (n?,k),(k,m?)->(n?,m?) requires 1)",
          "traceback": [
            "\u001b[0;31m---------------------------------------------------------------------------\u001b[0m",
            "\u001b[0;31mValueError\u001b[0m                                Traceback (most recent call last)",
            "\u001b[0;32m<ipython-input-27-875bf147741b>\u001b[0m in \u001b[0;36m<cell line: 1>\u001b[0;34m()\u001b[0m\n\u001b[0;32m----> 1\u001b[0;31m \u001b[0mnp\u001b[0m\u001b[0;34m.\u001b[0m\u001b[0mmatmul\u001b[0m\u001b[0;34m(\u001b[0m\u001b[0ma\u001b[0m\u001b[0;34m,\u001b[0m \u001b[0;36m5\u001b[0m\u001b[0;34m)\u001b[0m\u001b[0;34m\u001b[0m\u001b[0;34m\u001b[0m\u001b[0m\n\u001b[0m",
            "\u001b[0;31mValueError\u001b[0m: matmul: Input operand 1 does not have enough dimensions (has 0, gufunc core with signature (n?,k),(k,m?)->(n?,m?) requires 1)"
          ]
        }
      ]
    },
    {
      "cell_type": "code",
      "source": [
        "np.dot(a, 5)"
      ],
      "metadata": {
        "colab": {
          "base_uri": "https://localhost:8080/"
        },
        "id": "HXfDpKB54Rb4",
        "outputId": "47ac1fdb-3097-4d6a-a562-43f053a791f3"
      },
      "execution_count": null,
      "outputs": [
        {
          "output_type": "execute_result",
          "data": {
            "text/plain": [
              "array([ 5, 10, 15, 20])"
            ]
          },
          "metadata": {},
          "execution_count": 28
        }
      ]
    },
    {
      "cell_type": "markdown",
      "source": [
        "**Important:**\n",
        "\n",
        "- `dot()` function supports the vector multiplication with a scalar value, which is not possible with `matmul()`.\n",
        "- `Vector * Vector` will work for `matmul()` but `Vector * Scalar` won't.\n",
        "\n",
        "\n",
        "\n",
        "---\n",
        "\n"
      ],
      "metadata": {
        "id": "vm_C6n2e4T2t"
      }
    },
    {
      "cell_type": "markdown",
      "source": [
        "## **3. Vectorization in NumPy 🚀**\n"
      ],
      "metadata": {
        "id": "QfxTRxJy4tP6"
      }
    },
    {
      "cell_type": "markdown",
      "source": [
        "### Why Vectorization is Necessary\n",
        "\n",
        "## 1. The Problem with Non-Vectorized Operations ⚠️\n",
        "\n",
        "When working with arrays, applying a Python function directly to a NumPy array often leads to errors.  \n",
        "\n",
        "Let’s see an example where we try to use a Python function on a column of the dataset."
      ],
      "metadata": {
        "id": "Ek42UivS4yUd"
      }
    },
    {
      "cell_type": "code",
      "source": [
        "# Example: Apply a custom function to the 'rate' column\n",
        "def categorize_rating(rating):\n",
        "    \"\"\"Categorize ratings into high or low.\"\"\"\n",
        "    if rating >= 4.0:\n",
        "        return \"High\"\n",
        "    else:\n",
        "        return \"Low\""
      ],
      "metadata": {
        "id": "QhiLVa3d4Sdn"
      },
      "execution_count": null,
      "outputs": []
    },
    {
      "cell_type": "code",
      "source": [
        "# Attempt to apply the function directly\n",
        "categorized_ratings = categorize_rating(numeric_data[:, 0])  # 'rate' column\n",
        "categorized_ratings"
      ],
      "metadata": {
        "colab": {
          "base_uri": "https://localhost:8080/",
          "height": 297
        },
        "id": "UadXsZhr421M",
        "outputId": "e6e29da8-730c-4ee0-facf-999ac13a415c"
      },
      "execution_count": null,
      "outputs": [
        {
          "output_type": "error",
          "ename": "ValueError",
          "evalue": "The truth value of an array with more than one element is ambiguous. Use a.any() or a.all()",
          "traceback": [
            "\u001b[0;31m---------------------------------------------------------------------------\u001b[0m",
            "\u001b[0;31mValueError\u001b[0m                                Traceback (most recent call last)",
            "\u001b[0;32m<ipython-input-30-f03fafe4751b>\u001b[0m in \u001b[0;36m<cell line: 2>\u001b[0;34m()\u001b[0m\n\u001b[1;32m      1\u001b[0m \u001b[0;31m# Attempt to apply the function directly\u001b[0m\u001b[0;34m\u001b[0m\u001b[0;34m\u001b[0m\u001b[0m\n\u001b[0;32m----> 2\u001b[0;31m \u001b[0mcategorized_ratings\u001b[0m \u001b[0;34m=\u001b[0m \u001b[0mcategorize_rating\u001b[0m\u001b[0;34m(\u001b[0m\u001b[0mnumeric_data\u001b[0m\u001b[0;34m[\u001b[0m\u001b[0;34m:\u001b[0m\u001b[0;34m,\u001b[0m \u001b[0;36m0\u001b[0m\u001b[0;34m]\u001b[0m\u001b[0;34m)\u001b[0m  \u001b[0;31m# 'rate' column\u001b[0m\u001b[0;34m\u001b[0m\u001b[0;34m\u001b[0m\u001b[0m\n\u001b[0m\u001b[1;32m      3\u001b[0m \u001b[0mcategorized_ratings\u001b[0m\u001b[0;34m\u001b[0m\u001b[0;34m\u001b[0m\u001b[0m\n",
            "\u001b[0;32m<ipython-input-29-0cf2f0a0b0c2>\u001b[0m in \u001b[0;36mcategorize_rating\u001b[0;34m(rating)\u001b[0m\n\u001b[1;32m      2\u001b[0m \u001b[0;32mdef\u001b[0m \u001b[0mcategorize_rating\u001b[0m\u001b[0;34m(\u001b[0m\u001b[0mrating\u001b[0m\u001b[0;34m)\u001b[0m\u001b[0;34m:\u001b[0m\u001b[0;34m\u001b[0m\u001b[0;34m\u001b[0m\u001b[0m\n\u001b[1;32m      3\u001b[0m     \u001b[0;34m\"\"\"Categorize ratings into high or low.\"\"\"\u001b[0m\u001b[0;34m\u001b[0m\u001b[0;34m\u001b[0m\u001b[0m\n\u001b[0;32m----> 4\u001b[0;31m     \u001b[0;32mif\u001b[0m \u001b[0mrating\u001b[0m \u001b[0;34m>=\u001b[0m \u001b[0;36m4.0\u001b[0m\u001b[0;34m:\u001b[0m\u001b[0;34m\u001b[0m\u001b[0;34m\u001b[0m\u001b[0m\n\u001b[0m\u001b[1;32m      5\u001b[0m         \u001b[0;32mreturn\u001b[0m \u001b[0;34m\"High\"\u001b[0m\u001b[0;34m\u001b[0m\u001b[0;34m\u001b[0m\u001b[0m\n\u001b[1;32m      6\u001b[0m     \u001b[0;32melse\u001b[0m\u001b[0;34m:\u001b[0m\u001b[0;34m\u001b[0m\u001b[0;34m\u001b[0m\u001b[0m\n",
            "\u001b[0;31mValueError\u001b[0m: The truth value of an array with more than one element is ambiguous. Use a.any() or a.all()"
          ]
        }
      ]
    },
    {
      "cell_type": "markdown",
      "source": [
        "### Explanation:\n",
        "- Python functions like <font color=\"magenta\">categorize_rating</font> are not designed to work directly on NumPy arrays.\n",
        "- NumPy operates on arrays element-wise, but Python functions expect single values.\n",
        "- This results in a <font color=\"red\">ValueError</font> or other unexpected behavior.\n"
      ],
      "metadata": {
        "id": "DysfJ4b748X4"
      }
    },
    {
      "cell_type": "markdown",
      "source": [
        "### Introducing <font color=\"magenta\">np.vectorize()</font> 🌟\n",
        "\n",
        "<font color=\"magenta\">np.vectorize()</font> allows us to apply Python functions element-wise to a NumPy array.\n",
        "\n",
        "Let’s vectorize the <font color=\"Greed\">categorize_rating()</font> function and apply it to the `rate` column.\n"
      ],
      "metadata": {
        "id": "WHNHOZoh5EG8"
      }
    },
    {
      "cell_type": "code",
      "source": [
        "# Vectorize the categorize_rating function\n",
        "vectorized_categorize_rating = np.vectorize(categorize_rating)\n",
        "vectorized_categorize_rating"
      ],
      "metadata": {
        "colab": {
          "base_uri": "https://localhost:8080/"
        },
        "id": "McESed1C437v",
        "outputId": "f00eabf4-d312-48b7-8271-8fc1d43cadcd"
      },
      "execution_count": null,
      "outputs": [
        {
          "output_type": "execute_result",
          "data": {
            "text/plain": [
              "<numpy.vectorize at 0x7d10d02a9ff0>"
            ]
          },
          "metadata": {},
          "execution_count": 31
        }
      ]
    },
    {
      "cell_type": "code",
      "source": [
        "# Apply the vectorized function to the 'rate' column\n",
        "categorized_ratings = vectorized_categorize_rating(numeric_data[:, 0])\n",
        "\n",
        "# Display a sample of the categorized ratings\n",
        "print(\"Categorized Ratings (sample):\", categorized_ratings[:10])"
      ],
      "metadata": {
        "colab": {
          "base_uri": "https://localhost:8080/"
        },
        "id": "DToiK2d_5X9H",
        "outputId": "54632ac9-04b4-4eae-9a8f-5ef16824cf5b"
      },
      "execution_count": null,
      "outputs": [
        {
          "output_type": "stream",
          "name": "stdout",
          "text": [
            "Categorized Ratings (sample): ['High' 'Low' 'High' 'Low' 'Low' 'Low' 'High' 'Low' 'Low' 'Low']\n"
          ]
        }
      ]
    },
    {
      "cell_type": "markdown",
      "source": [
        "**Explanation:**\n",
        "- <font color=\"greed\">np.vectorize()</font> transforms a Python function into one that works seamlessly with arrays.\n",
        "- This enables element-wise operations without needing loops.\n",
        "\n",
        "### 3. Applying Discounts to Costs 💰\n",
        "\n",
        "Imagine we want to apply a **10% discount** to restaurants with a rating of **4.0 or higher**.  \n",
        "We’ll use <font color=\"greed\">np.vectorize()</font> to vectorize the logic and apply it to the dataset.\n"
      ],
      "metadata": {
        "id": "x9XL7D7u5cLf"
      }
    },
    {
      "cell_type": "code",
      "source": [
        "# Define a function to calculate discounted cost\n",
        "def discount_cost(rate, cost):\n",
        "    \"\"\"Apply a 10% discount if the rating is 4.0 or higher.\"\"\"\n",
        "    if rate >= 4.0:\n",
        "        return cost * 0.9\n",
        "    else:\n",
        "        return cost\n",
        "\n",
        "# Vectorize the discount_cost function\n",
        "vectorized_discount_cost = np.vectorize(discount_cost)\n",
        "\n",
        "# Apply the vectorized function to 'rate' and 'approx_cost(for two people)'\n",
        "discounted_costs = vectorized_discount_cost(numeric_data[:, 0], numeric_data[:, 2])\n",
        "\n",
        "# Display a sample of the discounted costs\n",
        "print(\"Discounted Costs (sample):\", discounted_costs[:10])"
      ],
      "metadata": {
        "colab": {
          "base_uri": "https://localhost:8080/"
        },
        "id": "E0-Wiuky5aNm",
        "outputId": "a78200f7-bcef-46e2-caed-4a66fd90b2be"
      },
      "execution_count": null,
      "outputs": [
        {
          "output_type": "stream",
          "name": "stdout",
          "text": [
            "Discounted Costs (sample): [720. 800. 720. 300. 600. 600. 540. 700. 550. 500.]\n"
          ]
        }
      ]
    },
    {
      "cell_type": "markdown",
      "source": [
        "### Explanation:\n",
        "- The function <font color=\"blue\">discount_cost()</font> checks each restaurant's rating and applies a discount if it meets the criteria.\n",
        "- <font color=\"magenta\">np.vectorize()</font> enables this logic to process the entire dataset column efficiently.\n",
        "\n",
        "\n",
        "\n",
        "---\n",
        "\n"
      ],
      "metadata": {
        "id": "pb3i6gnU5wYp"
      }
    },
    {
      "cell_type": "markdown",
      "source": [
        "## **4. Broadcasting in NumPy 🚀**"
      ],
      "metadata": {
        "id": "5CZkNZ926S-J"
      }
    },
    {
      "cell_type": "markdown",
      "source": [
        "\n",
        "### 1. What is Broadcasting?\n",
        "\n",
        "Broadcasting allows NumPy to perform operations on arrays with **different shapes** by automatically \"expanding\" smaller arrays.\n",
        "\n",
        "It simplifies computation by avoiding the need for explicit loops or manual reshaping.\n",
        "\n",
        "💡 **Example**: Adding a scalar to a 2D array works because NumPy \"broadcasts\" the scalar to match the array's shape.\n"
      ],
      "metadata": {
        "id": "Xx71zaV_6X55"
      }
    },
    {
      "cell_type": "code",
      "source": [
        "# Example of broadcasting a scalar\n",
        "import numpy as np\n",
        "\n",
        "array_2d = np.array([[1, 2, 3], [4, 5, 6]])\n",
        "scalar = 10\n",
        "\n",
        "result = array_2d + scalar\n",
        "print(\"Array:\\n\", array_2d)\n",
        "print(\"---\"* 10)\n",
        "\n",
        "print(\"adding Scalar:\", scalar)\n",
        "print(\"---\"* 10)\n",
        "\n",
        "print(\"Result after broadcasting:\\n\", result)"
      ],
      "metadata": {
        "colab": {
          "base_uri": "https://localhost:8080/"
        },
        "id": "NLBff-NR5uNe",
        "outputId": "c35c8f03-837b-40af-96ff-3a42201368c2"
      },
      "execution_count": null,
      "outputs": [
        {
          "output_type": "stream",
          "name": "stdout",
          "text": [
            "Array:\n",
            " [[1 2 3]\n",
            " [4 5 6]]\n",
            "------------------------------\n",
            "adding Scalar: 10\n",
            "------------------------------\n",
            "Result after broadcasting:\n",
            " [[11 12 13]\n",
            " [14 15 16]]\n"
          ]
        }
      ]
    },
    {
      "cell_type": "markdown",
      "source": [
        "**Explanation:**\n",
        "- The scalar `10` is broadcasted to match the shape of `array_2d`.\n",
        "- NumPy performs the operation as if the scalar is a 2D array with the same shape.\n"
      ],
      "metadata": {
        "id": "mLkIgiW36yLt"
      }
    },
    {
      "cell_type": "markdown",
      "source": [
        "### 2. Broadcasting in 1D Arrays\n",
        "\n",
        "**Case 1: Dimensions of Both Arrays Are Equal ✅**\n",
        "\n",
        "If two arrays have the same shape, operations work without any issues.\n"
      ],
      "metadata": {
        "id": "CxYmEAch68O4"
      }
    },
    {
      "cell_type": "code",
      "source": [
        "# Arrays with the same shape\n",
        "array1 = np.array([1, 2, 3])\n",
        "array2 = np.array([4, 5, 6])\n",
        "\n",
        "# Element-wise addition\n",
        "result = array1 + array2\n",
        "print(f\"{array1} + {array2} = {result}\")"
      ],
      "metadata": {
        "colab": {
          "base_uri": "https://localhost:8080/"
        },
        "id": "torWjiJ66mud",
        "outputId": "ca65dcb4-93dc-4791-c5c1-070ce879edde"
      },
      "execution_count": null,
      "outputs": [
        {
          "output_type": "stream",
          "name": "stdout",
          "text": [
            "[1 2 3] + [4 5 6] = [5 7 9]\n"
          ]
        }
      ]
    },
    {
      "cell_type": "markdown",
      "source": [
        "**Case 2: One Array is 1D 📏**\n",
        "\n",
        "If one array is 1D and the other is higher-dimensional, broadcasting will expand the 1D array.\n"
      ],
      "metadata": {
        "id": "tnb7auAe7ZmO"
      }
    },
    {
      "cell_type": "code",
      "source": [
        "# Broadcasting a 1D array to a 2D array\n",
        "array_2d = np.array([[1, 2, 3], [4, 5, 6]])\n",
        "array_1d = np.array([10, 20, 30])\n",
        "\n",
        "# Broadcasting works\n",
        "result = array_2d + array_1d\n",
        "\n",
        "print(f\"{array_2d} + {array_1d} =\")\n",
        "print(\"---\"* 10)\n",
        "print(result)"
      ],
      "metadata": {
        "colab": {
          "base_uri": "https://localhost:8080/"
        },
        "id": "x11mbpMp7Eg1",
        "outputId": "d9f2c3bc-795d-4abc-ad6a-5b322b1f4352"
      },
      "execution_count": null,
      "outputs": [
        {
          "output_type": "stream",
          "name": "stdout",
          "text": [
            "[[1 2 3]\n",
            " [4 5 6]] + [10 20 30] =\n",
            "------------------------------\n",
            "[[11 22 33]\n",
            " [14 25 36]]\n"
          ]
        }
      ]
    },
    {
      "cell_type": "markdown",
      "source": [
        "**Explanation:**\n",
        "\n",
        "- The 1D array `[10, 20, 30]` is broadcasted to match the rows of the 2D array.\n",
        "\n",
        "\n",
        "**Case 3: Column and Row Matrices 🧩**\n",
        "\n",
        "Broadcasting works between a column matrix and a row matrix.\n",
        "\n"
      ],
      "metadata": {
        "id": "JtiIhgzH7rnJ"
      }
    },
    {
      "cell_type": "code",
      "source": [
        "# Column matrix (3x1) and row matrix (1x3)\n",
        "col_matrix = np.array([[1], [2], [3]])\n",
        "row_matrix = np.array([[10, 20, 30]])\n",
        "\n",
        "# Broadcasting works\n",
        "result = col_matrix + row_matrix\n",
        "\n",
        "print(f\"{col_matrix} + {row_matrix} =\")\n",
        "print(\"---\"* 10)\n",
        "print(result)"
      ],
      "metadata": {
        "colab": {
          "base_uri": "https://localhost:8080/"
        },
        "id": "ZfHPVFup7esE",
        "outputId": "d95d7a93-a0f8-44b8-8184-a3229eea012f"
      },
      "execution_count": null,
      "outputs": [
        {
          "output_type": "stream",
          "name": "stdout",
          "text": [
            "[[1]\n",
            " [2]\n",
            " [3]] + [[10 20 30]] =\n",
            "------------------------------\n",
            "[[11 21 31]\n",
            " [12 22 32]\n",
            " [13 23 33]]\n"
          ]
        }
      ]
    },
    {
      "cell_type": "markdown",
      "source": [
        "**Explanation:**\n",
        "- The column matrix is broadcasted along the columns, and the row matrix is broadcasted along the rows.\n",
        "\n",
        "\n",
        "### **Error: Some Incompatible Shapes 🚨**\n",
        "\n",
        "Broadcasting fails when the shapes are incompatible. Let’s see an example.\n"
      ],
      "metadata": {
        "id": "oME9JtGQ75lP"
      }
    },
    {
      "cell_type": "code",
      "source": [
        "# Incompatible shapes\n",
        "array1 = np.array([1, 2, 3])\n",
        "array2 = np.array([[1, 2], [3, 4]])\n",
        "\n",
        "result = array1 + array2\n",
        "result"
      ],
      "metadata": {
        "colab": {
          "base_uri": "https://localhost:8080/",
          "height": 193
        },
        "id": "evAWazjZ7x2l",
        "outputId": "bf2828c7-91dc-488e-9dfd-856cf276dfbc"
      },
      "execution_count": null,
      "outputs": [
        {
          "output_type": "error",
          "ename": "ValueError",
          "evalue": "operands could not be broadcast together with shapes (3,) (2,2) ",
          "traceback": [
            "\u001b[0;31m---------------------------------------------------------------------------\u001b[0m",
            "\u001b[0;31mValueError\u001b[0m                                Traceback (most recent call last)",
            "\u001b[0;32m<ipython-input-38-6580abb8d9e6>\u001b[0m in \u001b[0;36m<cell line: 5>\u001b[0;34m()\u001b[0m\n\u001b[1;32m      3\u001b[0m \u001b[0marray2\u001b[0m \u001b[0;34m=\u001b[0m \u001b[0mnp\u001b[0m\u001b[0;34m.\u001b[0m\u001b[0marray\u001b[0m\u001b[0;34m(\u001b[0m\u001b[0;34m[\u001b[0m\u001b[0;34m[\u001b[0m\u001b[0;36m1\u001b[0m\u001b[0;34m,\u001b[0m \u001b[0;36m2\u001b[0m\u001b[0;34m]\u001b[0m\u001b[0;34m,\u001b[0m \u001b[0;34m[\u001b[0m\u001b[0;36m3\u001b[0m\u001b[0;34m,\u001b[0m \u001b[0;36m4\u001b[0m\u001b[0;34m]\u001b[0m\u001b[0;34m]\u001b[0m\u001b[0;34m)\u001b[0m\u001b[0;34m\u001b[0m\u001b[0;34m\u001b[0m\u001b[0m\n\u001b[1;32m      4\u001b[0m \u001b[0;34m\u001b[0m\u001b[0m\n\u001b[0;32m----> 5\u001b[0;31m \u001b[0mresult\u001b[0m \u001b[0;34m=\u001b[0m \u001b[0marray1\u001b[0m \u001b[0;34m+\u001b[0m \u001b[0marray2\u001b[0m\u001b[0;34m\u001b[0m\u001b[0;34m\u001b[0m\u001b[0m\n\u001b[0m\u001b[1;32m      6\u001b[0m \u001b[0mresult\u001b[0m\u001b[0;34m\u001b[0m\u001b[0;34m\u001b[0m\u001b[0m\n",
            "\u001b[0;31mValueError\u001b[0m: operands could not be broadcast together with shapes (3,) (2,2) "
          ]
        }
      ]
    },
    {
      "cell_type": "markdown",
      "source": [
        "**Explanation:**\n",
        "\n",
        "- The shapes `(3,)` and `(2, 2)` are incompatible for broadcasting.\n"
      ],
      "metadata": {
        "id": "LiDCjcUx8KKA"
      }
    },
    {
      "cell_type": "markdown",
      "source": [
        "### 3. Broadcasting in 2D Arrays\n",
        "\n",
        "![bro.jpg](https://d2beiqkhq929f0.cloudfront.net/public_assets/assets/000/047/364/original/download.jpeg?1694345633)\n",
        "\n",
        "**Four Rules for Broadcasting in 2D Arrays 🔍**\n",
        "\n",
        "1. If the arrays do not have the same number of dimensions, prepend 1s to the smaller array.\n",
        "2. Arrays are compatible if:\n",
        "   - Dimensions are the same, or\n",
        "   - One of the dimensions is 1.\n",
        "3. The result shape is the maximum shape along each dimension.\n",
        "4. If rules are not satisfied, broadcasting fails.\n",
        "\n",
        "Let’s explore examples of what works and what doesn’t."
      ],
      "metadata": {
        "id": "7rV-CH7Y8NOr"
      }
    },
    {
      "cell_type": "code",
      "source": [
        "# Example: Compatible shapes\n",
        "array1 = np.array([[1, 2, 3], [4, 5, 6]])\n",
        "array2 = np.array([[10], [20]])\n",
        "\n",
        "# Broadcasting works\n",
        "result = array1 + array2\n",
        "\n",
        "print(\"Array 1:\\n\", array1)\n",
        "print(\"---\"* 10)\n",
        "\n",
        "print(\"Array 2:\\n\", array2)\n",
        "print(\"---\"* 10)\n",
        "\n",
        "print(\"Result:\\n\", result)"
      ],
      "metadata": {
        "colab": {
          "base_uri": "https://localhost:8080/"
        },
        "id": "CETwW0Hm8Ire",
        "outputId": "5b9744b4-2a2f-4fa3-abf0-0ff6ce06fb84"
      },
      "execution_count": null,
      "outputs": [
        {
          "output_type": "stream",
          "name": "stdout",
          "text": [
            "Array 1:\n",
            " [[1 2 3]\n",
            " [4 5 6]]\n",
            "------------------------------\n",
            "Array 2:\n",
            " [[10]\n",
            " [20]]\n",
            "------------------------------\n",
            "Result:\n",
            " [[11 12 13]\n",
            " [24 25 26]]\n"
          ]
        }
      ]
    },
    {
      "cell_type": "markdown",
      "source": [
        "**Explanation:**\n",
        "\n",
        "- Shape of `array1` is `(2, 3)` and `array2` is `(2, 1)`.\n",
        "- Broadcasting expands `array2` to `(2, 3)`.\n"
      ],
      "metadata": {
        "id": "jW3puRrt8eTT"
      }
    },
    {
      "cell_type": "code",
      "source": [
        "# Example: Incompatible shapes\n",
        "array1 = np.array([[1, 2, 3], [4, 5, 6]])\n",
        "array2 = np.array([[10, 20]])\n",
        "\n",
        "result = array1 + array2\n",
        "result"
      ],
      "metadata": {
        "colab": {
          "base_uri": "https://localhost:8080/",
          "height": 193
        },
        "id": "YXG4J4Y_8TJk",
        "outputId": "489dd455-4161-4f5d-d312-8a7395e30746"
      },
      "execution_count": null,
      "outputs": [
        {
          "output_type": "error",
          "ename": "ValueError",
          "evalue": "operands could not be broadcast together with shapes (2,3) (1,2) ",
          "traceback": [
            "\u001b[0;31m---------------------------------------------------------------------------\u001b[0m",
            "\u001b[0;31mValueError\u001b[0m                                Traceback (most recent call last)",
            "\u001b[0;32m<ipython-input-40-f26fb1abbf37>\u001b[0m in \u001b[0;36m<cell line: 5>\u001b[0;34m()\u001b[0m\n\u001b[1;32m      3\u001b[0m \u001b[0marray2\u001b[0m \u001b[0;34m=\u001b[0m \u001b[0mnp\u001b[0m\u001b[0;34m.\u001b[0m\u001b[0marray\u001b[0m\u001b[0;34m(\u001b[0m\u001b[0;34m[\u001b[0m\u001b[0;34m[\u001b[0m\u001b[0;36m10\u001b[0m\u001b[0;34m,\u001b[0m \u001b[0;36m20\u001b[0m\u001b[0;34m]\u001b[0m\u001b[0;34m]\u001b[0m\u001b[0;34m)\u001b[0m\u001b[0;34m\u001b[0m\u001b[0;34m\u001b[0m\u001b[0m\n\u001b[1;32m      4\u001b[0m \u001b[0;34m\u001b[0m\u001b[0m\n\u001b[0;32m----> 5\u001b[0;31m \u001b[0mresult\u001b[0m \u001b[0;34m=\u001b[0m \u001b[0marray1\u001b[0m \u001b[0;34m+\u001b[0m \u001b[0marray2\u001b[0m\u001b[0;34m\u001b[0m\u001b[0;34m\u001b[0m\u001b[0m\n\u001b[0m\u001b[1;32m      6\u001b[0m \u001b[0mresult\u001b[0m\u001b[0;34m\u001b[0m\u001b[0;34m\u001b[0m\u001b[0m\n",
            "\u001b[0;31mValueError\u001b[0m: operands could not be broadcast together with shapes (2,3) (1,2) "
          ]
        }
      ]
    },
    {
      "cell_type": "markdown",
      "source": [
        "**Explanation:**\n",
        "\n",
        "- Shape of `array1` is `(2, 3)` and `array2` is `(1, 2)`.\n",
        "- Broadcasting fails because the dimensions are not compatible.\n"
      ],
      "metadata": {
        "id": "ijBUxZT28sW7"
      }
    },
    {
      "cell_type": "markdown",
      "source": [
        "### 4. Using <font color=\"magenta\">np.tile()</font>\n",
        "\n",
        "When broadcasting doesn’t work, you can explicitly expand an array using <font color=\"magenta\">np.tile()</font>.\n"
      ],
      "metadata": {
        "id": "XPs_GyLc8vb9"
      }
    },
    {
      "cell_type": "code",
      "source": [
        "# Example: Explicit broadcasting with np.tile\n",
        "array1 = np.array([[1, 2, 3]])\n",
        "array2 = np.array([[10], [20], [30]])\n",
        "\n",
        "# Use np.tile to match shapes\n",
        "array1_tiled = np.tile(array1, (3, 1))\n",
        "array1_tiled"
      ],
      "metadata": {
        "colab": {
          "base_uri": "https://localhost:8080/"
        },
        "id": "4iVE43zi8pKs",
        "outputId": "e444af15-097c-4117-ea0a-cef434787337"
      },
      "execution_count": null,
      "outputs": [
        {
          "output_type": "execute_result",
          "data": {
            "text/plain": [
              "array([[1, 2, 3],\n",
              "       [1, 2, 3],\n",
              "       [1, 2, 3]])"
            ]
          },
          "metadata": {},
          "execution_count": 41
        }
      ]
    },
    {
      "cell_type": "code",
      "source": [
        "# Perform addition\n",
        "result = array1_tiled + array2\n",
        "print(\"Result:\\n\", result)"
      ],
      "metadata": {
        "colab": {
          "base_uri": "https://localhost:8080/"
        },
        "id": "NATvzdrn86Tk",
        "outputId": "f063cef1-baec-4b1a-bd24-9db3ba46d2a1"
      },
      "execution_count": null,
      "outputs": [
        {
          "output_type": "stream",
          "name": "stdout",
          "text": [
            "Result:\n",
            " [[11 12 13]\n",
            " [21 22 23]\n",
            " [31 32 33]]\n"
          ]
        }
      ]
    },
    {
      "cell_type": "markdown",
      "source": [
        "**Explanation:**\n",
        "- <font color=\"magenta\">np.tile()</font> repeats `array1` to match the shape of `array2`.\n",
        "- Broadcasting is now possible.\n",
        "\n",
        "\n",
        "\n",
        "---\n",
        "\n",
        "\n"
      ],
      "metadata": {
        "id": "tnkRdSg99DLJ"
      }
    },
    {
      "cell_type": "markdown",
      "source": [
        "## **5. Splitting Arrays in NumPy ✂️**"
      ],
      "metadata": {
        "id": "ir-siCb0B4Ha"
      }
    },
    {
      "cell_type": "markdown",
      "source": [
        "### Parameters for Splitting Arrays 🛠️\n",
        "\n",
        "All splitting functions take the following parameters:\n",
        "\n",
        "1. <font color=\"green\">array</font>: The array to be split.\n",
        "2. <font color=\"skyblue\">indices_or_sections</font>:\n",
        "   - If an integer `N`, the array is split into `N` equal sections.\n",
        "   - If a list of indices, the splits happen at those positions.\n",
        "\n",
        "\n"
      ],
      "metadata": {
        "id": "lJetHOTjB93J"
      }
    },
    {
      "cell_type": "markdown",
      "source": [
        "### Splitting Arrays with <font color=\"green\">np.split()</font>\n",
        "\n",
        "<font color=\"green\">np.split()</font> splits an array into sections along a specified axis:\n",
        "- **axis=0**: Split rows.\n",
        "- **axis=1**: Split columns (for 2D arrays).\n",
        "\n",
        "\n",
        "**Example 1: Splitting a 1D Array**"
      ],
      "metadata": {
        "id": "hAp3MRYfCXvf"
      }
    },
    {
      "cell_type": "code",
      "source": [
        "import numpy as np\n",
        "\n",
        "# 1D array\n",
        "array_1d = np.array([1, 2, 3, 4, 5, 6])\n",
        "\n",
        "# Split into 3 sections\n",
        "split_1d = np.split(array_1d, 3)\n",
        "\n",
        "print(\"Original Array:\", array_1d)\n",
        "print(\"Splits:\", split_1d)"
      ],
      "metadata": {
        "colab": {
          "base_uri": "https://localhost:8080/"
        },
        "id": "iGhdz7-NBWeH",
        "outputId": "20e8fbee-c1ee-461e-8ecb-bfa1a38af367"
      },
      "execution_count": null,
      "outputs": [
        {
          "output_type": "stream",
          "name": "stdout",
          "text": [
            "Original Array: [1 2 3 4 5 6]\n",
            "Splits: [array([1, 2]), array([3, 4]), array([5, 6])]\n"
          ]
        }
      ]
    },
    {
      "cell_type": "markdown",
      "source": [
        "**Prerequisites for Splitting 📏**\n",
        "\n",
        "- The total number of elements **must be divisible** by the number of splits.\n",
        "- For 2D arrays, ensure the axis matches the shape of the array.\n",
        "\n",
        "💡 **Example**:\n",
        "- A 1D array with 6 elements can be split into 2 or 3 equal parts, but **not 4**.\n",
        "- A 2D array with 4 columns can be split horizontally into 2 parts but **not 3**."
      ],
      "metadata": {
        "id": "sDk6mJfMDkq2"
      }
    },
    {
      "cell_type": "code",
      "source": [
        "split_1d = np.split(array_1d, 4)"
      ],
      "metadata": {
        "colab": {
          "base_uri": "https://localhost:8080/",
          "height": 263
        },
        "id": "YFd8CnOHCq1n",
        "outputId": "e982e1b9-0065-43a3-9848-c3e69d46098d"
      },
      "execution_count": null,
      "outputs": [
        {
          "output_type": "error",
          "ename": "ValueError",
          "evalue": "array split does not result in an equal division",
          "traceback": [
            "\u001b[0;31m---------------------------------------------------------------------------\u001b[0m",
            "\u001b[0;31mValueError\u001b[0m                                Traceback (most recent call last)",
            "\u001b[0;32m<ipython-input-52-bbc32036ca78>\u001b[0m in \u001b[0;36m<cell line: 1>\u001b[0;34m()\u001b[0m\n\u001b[0;32m----> 1\u001b[0;31m \u001b[0msplit_1d\u001b[0m \u001b[0;34m=\u001b[0m \u001b[0mnp\u001b[0m\u001b[0;34m.\u001b[0m\u001b[0msplit\u001b[0m\u001b[0;34m(\u001b[0m\u001b[0marray_1d\u001b[0m\u001b[0;34m,\u001b[0m \u001b[0;36m4\u001b[0m\u001b[0;34m)\u001b[0m\u001b[0;34m\u001b[0m\u001b[0;34m\u001b[0m\u001b[0m\n\u001b[0m",
            "\u001b[0;32m/usr/local/lib/python3.10/dist-packages/numpy/lib/shape_base.py\u001b[0m in \u001b[0;36msplit\u001b[0;34m(ary, indices_or_sections, axis)\u001b[0m\n\u001b[1;32m    862\u001b[0m         \u001b[0mN\u001b[0m \u001b[0;34m=\u001b[0m \u001b[0mary\u001b[0m\u001b[0;34m.\u001b[0m\u001b[0mshape\u001b[0m\u001b[0;34m[\u001b[0m\u001b[0maxis\u001b[0m\u001b[0;34m]\u001b[0m\u001b[0;34m\u001b[0m\u001b[0;34m\u001b[0m\u001b[0m\n\u001b[1;32m    863\u001b[0m         \u001b[0;32mif\u001b[0m \u001b[0mN\u001b[0m \u001b[0;34m%\u001b[0m \u001b[0msections\u001b[0m\u001b[0;34m:\u001b[0m\u001b[0;34m\u001b[0m\u001b[0;34m\u001b[0m\u001b[0m\n\u001b[0;32m--> 864\u001b[0;31m             raise ValueError(\n\u001b[0m\u001b[1;32m    865\u001b[0m                 'array split does not result in an equal division') from None\n\u001b[1;32m    866\u001b[0m     \u001b[0;32mreturn\u001b[0m \u001b[0marray_split\u001b[0m\u001b[0;34m(\u001b[0m\u001b[0mary\u001b[0m\u001b[0;34m,\u001b[0m \u001b[0mindices_or_sections\u001b[0m\u001b[0;34m,\u001b[0m \u001b[0maxis\u001b[0m\u001b[0;34m)\u001b[0m\u001b[0;34m\u001b[0m\u001b[0;34m\u001b[0m\u001b[0m\n",
            "\u001b[0;31mValueError\u001b[0m: array split does not result in an equal division"
          ]
        }
      ]
    },
    {
      "cell_type": "markdown",
      "source": [
        "**Example 2: Splitting a 2D Array**"
      ],
      "metadata": {
        "id": "EEavTlgBChXE"
      }
    },
    {
      "cell_type": "code",
      "source": [
        "# 2D array\n",
        "array_2d = np.array([[1, 2, 3, 4],\n",
        "                     [5, 6, 7, 8]])\n",
        "\n",
        "# Split into 2 along axis=1 (columns)\n",
        "split_2d = np.split(array_2d, 2, axis=1)\n",
        "\n",
        "print(\"Original Array:\\n\", array_2d)\n",
        "print(\"==\"*10)\n",
        "print(\"Splits:\")\n",
        "for part in split_2d:\n",
        "    print(part)"
      ],
      "metadata": {
        "colab": {
          "base_uri": "https://localhost:8080/"
        },
        "id": "2hBsnpCXCdx_",
        "outputId": "00898392-cee1-401b-bdbc-d6cdb004de19"
      },
      "execution_count": null,
      "outputs": [
        {
          "output_type": "stream",
          "name": "stdout",
          "text": [
            "Original Array:\n",
            " [[1 2 3 4]\n",
            " [5 6 7 8]]\n",
            "====================\n",
            "Splits:\n",
            "[[1 2]\n",
            " [5 6]]\n",
            "[[3 4]\n",
            " [7 8]]\n"
          ]
        }
      ]
    },
    {
      "cell_type": "markdown",
      "source": [
        "**Explanation:**\n",
        "- **1D Array**: Split into 3 equal parts.\n",
        "- **2D Array**: Split columns into 2 equal sections using <font color=\"skyblue\">axis=1</font>."
      ],
      "metadata": {
        "id": "Ez-2e24QCwwE"
      }
    },
    {
      "cell_type": "markdown",
      "source": [
        "### Horizontal Splitting with <font color=\"skyblue\">np.hsplit()</font>\n",
        "\n",
        "<img src=\"https://d2beiqkhq929f0.cloudfront.net/public_assets/assets/000/054/735/original/hvsp1.png?1698041133\" width=\"600\" height=\"400\">\n",
        "\n",
        "\n",
        "<font color=\"skyblue\">np.hsplit()</font> splits a 2D array horizontally into sections (columns).  \n",
        "\n",
        "💡 **Shortcut**: Equivalent to <font color=\"green\">np.split(array, N, axis=1)</font>.\n",
        "\n",
        "**Example: Horizontal Splitting**"
      ],
      "metadata": {
        "id": "1M5wmDNZC3hC"
      }
    },
    {
      "cell_type": "code",
      "source": [
        "# Horizontal split\n",
        "hsplit_2d = np.hsplit(array_2d, 2)\n",
        "\n",
        "print(\"Original Array:\\n\", array_2d)\n",
        "print(\"==\"*10)\n",
        "print(\"Horizontal Splits:\")\n",
        "for part in hsplit_2d:\n",
        "    print(part)"
      ],
      "metadata": {
        "colab": {
          "base_uri": "https://localhost:8080/"
        },
        "id": "HNDzHpdOCjPK",
        "outputId": "f1363432-f90c-45ab-bcf8-f43de804f8e8"
      },
      "execution_count": null,
      "outputs": [
        {
          "output_type": "stream",
          "name": "stdout",
          "text": [
            "Original Array:\n",
            " [[1 2 3 4]\n",
            " [5 6 7 8]]\n",
            "====================\n",
            "Horizontal Splits:\n",
            "[[1 2]\n",
            " [5 6]]\n",
            "[[3 4]\n",
            " [7 8]]\n"
          ]
        }
      ]
    },
    {
      "cell_type": "markdown",
      "source": [
        "**Explanation:**\n",
        "- <font color=\"blue\">np.hsplit()</font>  divides the columns into equal sections.\n",
        "- This is a convenient method for column-wise splitting.\n"
      ],
      "metadata": {
        "id": "QpDOiuOLDSYd"
      }
    },
    {
      "cell_type": "markdown",
      "source": [
        "### Vertical Splitting with <font color=\"greed\">np.vsplit()</font>\n",
        "\n",
        "<font color=\"gredd\">np.vsplit()</font>`splits a 2D array vertically into sections (rows).  \n",
        "\n",
        "💡 **Shortcut**: Equivalent to <font color=\"green\">np.split(array, N, axis=0)</font>.\n",
        "\n",
        "**Example: Vertical Splitting**"
      ],
      "metadata": {
        "id": "47fgWoSEDF3w"
      }
    },
    {
      "cell_type": "code",
      "source": [
        "# Vertical split\n",
        "vsplit_2d = np.vsplit(array_2d, 2)\n",
        "\n",
        "print(\"Original Array:\\n\", array_2d)\n",
        "print(\"Vertical Splits:\")\n",
        "for part in vsplit_2d:\n",
        "    print(part)"
      ],
      "metadata": {
        "colab": {
          "base_uri": "https://localhost:8080/"
        },
        "id": "Eu5Z17_WDDjn",
        "outputId": "bb9b5f91-f95f-43cc-8909-edecbd33ecf2"
      },
      "execution_count": null,
      "outputs": [
        {
          "output_type": "stream",
          "name": "stdout",
          "text": [
            "Original Array:\n",
            " [[1 2 3 4]\n",
            " [5 6 7 8]]\n",
            "Vertical Splits:\n",
            "[[1 2 3 4]]\n",
            "[[5 6 7 8]]\n"
          ]
        }
      ]
    },
    {
      "cell_type": "markdown",
      "source": [
        "**Explanation:**\n",
        "\n",
        "- <font color=\"skyblue\">np.vsplit()</font> divides rows into equal sections.\n",
        "- This is a convenient method for row-wise splitting."
      ],
      "metadata": {
        "id": "Rjty_nBsDNhf"
      }
    },
    {
      "cell_type": "markdown",
      "source": [
        "### Custom Splits with Indices 🛠️\n",
        "\n",
        "Instead of dividing into equal parts, we can use indices for custom splits.\n"
      ],
      "metadata": {
        "id": "UVBXhos-DYY0"
      }
    },
    {
      "cell_type": "code",
      "source": [
        "# Split using indices\n",
        "custom_split = np.split(array_1d, [2, 5])\n",
        "\n",
        "print(\"Original Array:\", array_1d)\n",
        "print(\"Custom Splits:\", custom_split)"
      ],
      "metadata": {
        "colab": {
          "base_uri": "https://localhost:8080/"
        },
        "id": "FFGeL21nDM5f",
        "outputId": "63624b92-c494-49d4-96ad-ea84e38d4425"
      },
      "execution_count": null,
      "outputs": [
        {
          "output_type": "stream",
          "name": "stdout",
          "text": [
            "Original Array: [1 2 3 4 5 6]\n",
            "Custom Splits: [array([1, 2]), array([3, 4, 5]), array([6])]\n"
          ]
        }
      ]
    },
    {
      "cell_type": "markdown",
      "source": [
        "**Explanation:**\n",
        "\n",
        "- Splits occur at positions `[2, 5]`, creating 3 parts:\n",
        "  - `[1, 2]`\n",
        "  - `[3, 4, 5]`\n",
        "  - `[6]`.\n",
        "\n",
        "\n",
        "\n",
        "---\n",
        "\n"
      ],
      "metadata": {
        "id": "Kj-0FoG3DciY"
      }
    },
    {
      "cell_type": "markdown",
      "source": [
        "## **6. Stacking Arrays in NumPy 🚀**\n"
      ],
      "metadata": {
        "id": "r7Zlt8kXEHFN"
      }
    },
    {
      "cell_type": "markdown",
      "source": [
        "### Vertical Stacking with <font color=\"green\">np.vstack()</font>\n",
        "\n",
        "<font color=\"green\">np.vstack()</font> stacks arrays along the vertical axis (rows).  \n",
        "- All arrays **must have the same number of columns** for vertical stacking.\n",
        "\n",
        "**Example: Vertical Stacking**"
      ],
      "metadata": {
        "id": "-9CKQsyvEKIg"
      }
    },
    {
      "cell_type": "code",
      "source": [
        "import numpy as np\n",
        "\n",
        "# Define arrays\n",
        "array1 = np.array([1, 2, 3])\n",
        "array2 = np.array([4, 5, 6])\n",
        "\n",
        "# Stack vertically\n",
        "vstack_result = np.vstack([array1, array2])\n",
        "\n",
        "print(\"Array 1:\", array1)\n",
        "print(\"Array 2:\", array2)\n",
        "print(\"Vertical Stack:\\n\", vstack_result)"
      ],
      "metadata": {
        "colab": {
          "base_uri": "https://localhost:8080/"
        },
        "id": "LOLY_HJHDasw",
        "outputId": "297eafaa-8825-433f-d699-37eadddcfc61"
      },
      "execution_count": null,
      "outputs": [
        {
          "output_type": "stream",
          "name": "stdout",
          "text": [
            "Array 1: [1 2 3]\n",
            "Array 2: [4 5 6]\n",
            "Vertical Stack:\n",
            " [[1 2 3]\n",
            " [4 5 6]]\n"
          ]
        }
      ]
    },
    {
      "cell_type": "markdown",
      "source": [
        "**Explanation:**\n",
        "\n",
        "- The arrays `[1, 2, 3]` and `[4, 5, 6]` are stacked row-wise to form a 2D array.\n",
        "\n",
        "<font color=\"green\">np.vstack()</font> requires arrays to have the same number of columns.  \n",
        "\n",
        "Let’s see what happens when this condition is not met."
      ],
      "metadata": {
        "id": "EkAoyvx2EPgw"
      }
    },
    {
      "cell_type": "code",
      "source": [
        "# Arrays with unequal sizes\n",
        "array3 = np.array([7, 8])\n",
        "\n",
        "\n",
        "vstack_error = np.vstack([array1, array3])"
      ],
      "metadata": {
        "colab": {
          "base_uri": "https://localhost:8080/",
          "height": 315
        },
        "id": "QghJ6TQsENt-",
        "outputId": "8f9cb875-541c-42fc-a357-5c831d8c0ed9"
      },
      "execution_count": null,
      "outputs": [
        {
          "output_type": "error",
          "ename": "ValueError",
          "evalue": "all the input array dimensions except for the concatenation axis must match exactly, but along dimension 1, the array at index 0 has size 3 and the array at index 1 has size 2",
          "traceback": [
            "\u001b[0;31m---------------------------------------------------------------------------\u001b[0m",
            "\u001b[0;31mValueError\u001b[0m                                Traceback (most recent call last)",
            "\u001b[0;32m<ipython-input-58-b6ba1300be85>\u001b[0m in \u001b[0;36m<cell line: 5>\u001b[0;34m()\u001b[0m\n\u001b[1;32m      3\u001b[0m \u001b[0;34m\u001b[0m\u001b[0m\n\u001b[1;32m      4\u001b[0m \u001b[0;34m\u001b[0m\u001b[0m\n\u001b[0;32m----> 5\u001b[0;31m \u001b[0mvstack_error\u001b[0m \u001b[0;34m=\u001b[0m \u001b[0mnp\u001b[0m\u001b[0;34m.\u001b[0m\u001b[0mvstack\u001b[0m\u001b[0;34m(\u001b[0m\u001b[0;34m[\u001b[0m\u001b[0marray1\u001b[0m\u001b[0;34m,\u001b[0m \u001b[0marray3\u001b[0m\u001b[0;34m]\u001b[0m\u001b[0;34m)\u001b[0m\u001b[0;34m\u001b[0m\u001b[0;34m\u001b[0m\u001b[0m\n\u001b[0m",
            "\u001b[0;32m/usr/local/lib/python3.10/dist-packages/numpy/core/shape_base.py\u001b[0m in \u001b[0;36mvstack\u001b[0;34m(tup, dtype, casting)\u001b[0m\n\u001b[1;32m    287\u001b[0m     \u001b[0;32mif\u001b[0m \u001b[0;32mnot\u001b[0m \u001b[0misinstance\u001b[0m\u001b[0;34m(\u001b[0m\u001b[0marrs\u001b[0m\u001b[0;34m,\u001b[0m \u001b[0mlist\u001b[0m\u001b[0;34m)\u001b[0m\u001b[0;34m:\u001b[0m\u001b[0;34m\u001b[0m\u001b[0;34m\u001b[0m\u001b[0m\n\u001b[1;32m    288\u001b[0m         \u001b[0marrs\u001b[0m \u001b[0;34m=\u001b[0m \u001b[0;34m[\u001b[0m\u001b[0marrs\u001b[0m\u001b[0;34m]\u001b[0m\u001b[0;34m\u001b[0m\u001b[0;34m\u001b[0m\u001b[0m\n\u001b[0;32m--> 289\u001b[0;31m     \u001b[0;32mreturn\u001b[0m \u001b[0m_nx\u001b[0m\u001b[0;34m.\u001b[0m\u001b[0mconcatenate\u001b[0m\u001b[0;34m(\u001b[0m\u001b[0marrs\u001b[0m\u001b[0;34m,\u001b[0m \u001b[0;36m0\u001b[0m\u001b[0;34m,\u001b[0m \u001b[0mdtype\u001b[0m\u001b[0;34m=\u001b[0m\u001b[0mdtype\u001b[0m\u001b[0;34m,\u001b[0m \u001b[0mcasting\u001b[0m\u001b[0;34m=\u001b[0m\u001b[0mcasting\u001b[0m\u001b[0;34m)\u001b[0m\u001b[0;34m\u001b[0m\u001b[0;34m\u001b[0m\u001b[0m\n\u001b[0m\u001b[1;32m    290\u001b[0m \u001b[0;34m\u001b[0m\u001b[0m\n\u001b[1;32m    291\u001b[0m \u001b[0;34m\u001b[0m\u001b[0m\n",
            "\u001b[0;31mValueError\u001b[0m: all the input array dimensions except for the concatenation axis must match exactly, but along dimension 1, the array at index 0 has size 3 and the array at index 1 has size 2"
          ]
        }
      ]
    },
    {
      "cell_type": "markdown",
      "source": [
        "**Explanation:**\n",
        "\n",
        "- Vertical stacking fails because `array3` has fewer elements than `array1`.\n",
        "- All arrays must have the same number of columns for <font color=\"green\">np.vstack()</font>."
      ],
      "metadata": {
        "id": "AB2b3pAoEYvR"
      }
    },
    {
      "cell_type": "markdown",
      "source": [
        "### Horizontal Stacking with <font color=\"blue\">np.hstack()</font>\n",
        "\n",
        "<font color=\"blue\">np.hstack()</font> stacks arrays along the horizontal axis (columns).  \n",
        "- All arrays **must have the same number of rows** for horizontal stacking.\n",
        "\n",
        "**Example: Horizontal Stacking**"
      ],
      "metadata": {
        "id": "TajxGIoeEc60"
      }
    },
    {
      "cell_type": "code",
      "source": [
        "# Define arrays\n",
        "array4 = np.array([[1], [2], [3]])\n",
        "array5 = np.array([[4], [5], [6]])\n",
        "\n",
        "# Stack horizontally\n",
        "hstack_result = np.hstack([array4, array5])\n",
        "\n",
        "print(\"Array 4:\\n\", array4)\n",
        "print(\"Array 5:\\n\", array5)\n",
        "print(\"Horizontal Stack:\\n\", hstack_result)"
      ],
      "metadata": {
        "colab": {
          "base_uri": "https://localhost:8080/"
        },
        "id": "kj5w0cSkEVIG",
        "outputId": "dc35a7c9-a451-4898-ec5e-0a5ecd7ca1e5"
      },
      "execution_count": null,
      "outputs": [
        {
          "output_type": "stream",
          "name": "stdout",
          "text": [
            "Array 4:\n",
            " [[1]\n",
            " [2]\n",
            " [3]]\n",
            "Array 5:\n",
            " [[4]\n",
            " [5]\n",
            " [6]]\n",
            "Horizontal Stack:\n",
            " [[1 4]\n",
            " [2 5]\n",
            " [3 6]]\n"
          ]
        }
      ]
    },
    {
      "cell_type": "markdown",
      "source": [
        "**Explanation:**\n",
        "- Arrays `array4` and `array5` are stacked column-wise to form a 2D array.\n",
        "\n",
        "<font color=\"skyblue\">np.hstack()</font> requires arrays to have the same number of rows.  \n",
        "\n",
        "Let’s see what happens when this condition is not met."
      ],
      "metadata": {
        "id": "a3FgenTIEjWH"
      }
    },
    {
      "cell_type": "code",
      "source": [
        "# Arrays with unequal rows\n",
        "array6 = np.array([[7], [8]])\n",
        "\n",
        "hstack_error = np.hstack([array4, array6])"
      ],
      "metadata": {
        "colab": {
          "base_uri": "https://localhost:8080/",
          "height": 315
        },
        "id": "KSs7U3jvEhst",
        "outputId": "2b6ee48c-b549-4745-cca0-fe57257a7291"
      },
      "execution_count": null,
      "outputs": [
        {
          "output_type": "error",
          "ename": "ValueError",
          "evalue": "all the input array dimensions except for the concatenation axis must match exactly, but along dimension 0, the array at index 0 has size 3 and the array at index 1 has size 2",
          "traceback": [
            "\u001b[0;31m---------------------------------------------------------------------------\u001b[0m",
            "\u001b[0;31mValueError\u001b[0m                                Traceback (most recent call last)",
            "\u001b[0;32m<ipython-input-60-69665c44a288>\u001b[0m in \u001b[0;36m<cell line: 4>\u001b[0;34m()\u001b[0m\n\u001b[1;32m      2\u001b[0m \u001b[0marray6\u001b[0m \u001b[0;34m=\u001b[0m \u001b[0mnp\u001b[0m\u001b[0;34m.\u001b[0m\u001b[0marray\u001b[0m\u001b[0;34m(\u001b[0m\u001b[0;34m[\u001b[0m\u001b[0;34m[\u001b[0m\u001b[0;36m7\u001b[0m\u001b[0;34m]\u001b[0m\u001b[0;34m,\u001b[0m \u001b[0;34m[\u001b[0m\u001b[0;36m8\u001b[0m\u001b[0;34m]\u001b[0m\u001b[0;34m]\u001b[0m\u001b[0;34m)\u001b[0m\u001b[0;34m\u001b[0m\u001b[0;34m\u001b[0m\u001b[0m\n\u001b[1;32m      3\u001b[0m \u001b[0;34m\u001b[0m\u001b[0m\n\u001b[0;32m----> 4\u001b[0;31m \u001b[0mhstack_error\u001b[0m \u001b[0;34m=\u001b[0m \u001b[0mnp\u001b[0m\u001b[0;34m.\u001b[0m\u001b[0mhstack\u001b[0m\u001b[0;34m(\u001b[0m\u001b[0;34m[\u001b[0m\u001b[0marray4\u001b[0m\u001b[0;34m,\u001b[0m \u001b[0marray6\u001b[0m\u001b[0;34m]\u001b[0m\u001b[0;34m)\u001b[0m\u001b[0;34m\u001b[0m\u001b[0;34m\u001b[0m\u001b[0m\n\u001b[0m",
            "\u001b[0;32m/usr/local/lib/python3.10/dist-packages/numpy/core/shape_base.py\u001b[0m in \u001b[0;36mhstack\u001b[0;34m(tup, dtype, casting)\u001b[0m\n\u001b[1;32m    357\u001b[0m         \u001b[0;32mreturn\u001b[0m \u001b[0m_nx\u001b[0m\u001b[0;34m.\u001b[0m\u001b[0mconcatenate\u001b[0m\u001b[0;34m(\u001b[0m\u001b[0marrs\u001b[0m\u001b[0;34m,\u001b[0m \u001b[0;36m0\u001b[0m\u001b[0;34m,\u001b[0m \u001b[0mdtype\u001b[0m\u001b[0;34m=\u001b[0m\u001b[0mdtype\u001b[0m\u001b[0;34m,\u001b[0m \u001b[0mcasting\u001b[0m\u001b[0;34m=\u001b[0m\u001b[0mcasting\u001b[0m\u001b[0;34m)\u001b[0m\u001b[0;34m\u001b[0m\u001b[0;34m\u001b[0m\u001b[0m\n\u001b[1;32m    358\u001b[0m     \u001b[0;32melse\u001b[0m\u001b[0;34m:\u001b[0m\u001b[0;34m\u001b[0m\u001b[0;34m\u001b[0m\u001b[0m\n\u001b[0;32m--> 359\u001b[0;31m         \u001b[0;32mreturn\u001b[0m \u001b[0m_nx\u001b[0m\u001b[0;34m.\u001b[0m\u001b[0mconcatenate\u001b[0m\u001b[0;34m(\u001b[0m\u001b[0marrs\u001b[0m\u001b[0;34m,\u001b[0m \u001b[0;36m1\u001b[0m\u001b[0;34m,\u001b[0m \u001b[0mdtype\u001b[0m\u001b[0;34m=\u001b[0m\u001b[0mdtype\u001b[0m\u001b[0;34m,\u001b[0m \u001b[0mcasting\u001b[0m\u001b[0;34m=\u001b[0m\u001b[0mcasting\u001b[0m\u001b[0;34m)\u001b[0m\u001b[0;34m\u001b[0m\u001b[0;34m\u001b[0m\u001b[0m\n\u001b[0m\u001b[1;32m    360\u001b[0m \u001b[0;34m\u001b[0m\u001b[0m\n\u001b[1;32m    361\u001b[0m \u001b[0;34m\u001b[0m\u001b[0m\n",
            "\u001b[0;31mValueError\u001b[0m: all the input array dimensions except for the concatenation axis must match exactly, but along dimension 0, the array at index 0 has size 3 and the array at index 1 has size 2"
          ]
        }
      ]
    },
    {
      "cell_type": "markdown",
      "source": [
        "**Explanation:**\n",
        "\n",
        "- Horizontal stacking fails because `array6` has fewer rows than `array4`.\n",
        "- All arrays must have the same number of rows for `<font color=\"blue\">np.hstack()</font>`.\n"
      ],
      "metadata": {
        "id": "edGJztoqEr5p"
      }
    },
    {
      "cell_type": "markdown",
      "source": [
        "### General Concatenation with <font color=\"skyblue\">np.concatenate()</font>\n",
        "\n",
        "<font color=\"skyblue\">np.concatenate()</font> concatenates arrays along any axis (default is `axis=0`).  \n",
        "It provides more flexibility than stacking functions.\n",
        "\n",
        "**Parameters:**\n",
        "1. <font color=\"green\">array</font>: List or tuple of arrays to concatenate.\n",
        "2. <font color=\"skyblue\">axis</font>: Axis along which to concatenate.\n",
        "   - `axis=0`: Concatenate rows.\n",
        "   - `axis=1`: Concatenate columns (for 2D arrays).\n"
      ],
      "metadata": {
        "id": "2hPYtgADEtop"
      }
    },
    {
      "cell_type": "code",
      "source": [
        "# Example 1: Concatenation Along Rows\n",
        "# Concatenate along axis=0 (rows)\n",
        "concat_rows = np.concatenate([array4, array5], axis=0)\n",
        "\n",
        "print(\"Concatenation Along Rows:\\n\", concat_rows)"
      ],
      "metadata": {
        "colab": {
          "base_uri": "https://localhost:8080/"
        },
        "id": "C4OX2NxkEqvt",
        "outputId": "f6164648-00c2-464d-b41c-81a99b46f02c"
      },
      "execution_count": null,
      "outputs": [
        {
          "output_type": "stream",
          "name": "stdout",
          "text": [
            "Concatenation Along Rows:\n",
            " [[1]\n",
            " [2]\n",
            " [3]\n",
            " [4]\n",
            " [5]\n",
            " [6]]\n"
          ]
        }
      ]
    },
    {
      "cell_type": "markdown",
      "source": [
        "**Explanation:**\n",
        "\n",
        "- Arrays `array4` and `array5` are concatenated row-wise into a single array."
      ],
      "metadata": {
        "id": "66cLQsI7E05i"
      }
    },
    {
      "cell_type": "code",
      "source": [
        "# Example 2: Concatenation Along Columns\n",
        "# Concatenate along axis=1 (columns)\n",
        "concat_columns = np.concatenate([array4, array5], axis=1)\n",
        "\n",
        "print(\"Concatenation Along Columns:\\n\", concat_columns)"
      ],
      "metadata": {
        "colab": {
          "base_uri": "https://localhost:8080/"
        },
        "id": "P_e2GI3DEzSN",
        "outputId": "17672b95-106f-4017-ed76-47c5bfc89683"
      },
      "execution_count": null,
      "outputs": [
        {
          "output_type": "stream",
          "name": "stdout",
          "text": [
            "Concatenation Along Columns:\n",
            " [[1 4]\n",
            " [2 5]\n",
            " [3 6]]\n"
          ]
        }
      ]
    },
    {
      "cell_type": "markdown",
      "source": [
        "**Explanation:**\n",
        "- Arrays `array4` and `array5` are concatenated column-wise into a single array.\n",
        "\n",
        "<font color=\"skyblue\">np.concatenate()</font> requires compatible dimensions along the non-concatenating axis.\n",
        "\n",
        "Let’s see what happens when this condition is not met."
      ],
      "metadata": {
        "id": "iLobauZDE79k"
      }
    },
    {
      "cell_type": "code",
      "source": [
        "# Arrays with incompatible shapes\n",
        "array7 = np.array([7, 8, 9])\n",
        "\n",
        "concat_error = np.concatenate([array4, array7], axis=1)"
      ],
      "metadata": {
        "colab": {
          "base_uri": "https://localhost:8080/",
          "height": 193
        },
        "id": "iiHck9LTE7Tv",
        "outputId": "a8c9a3f8-d6c4-4b61-f16c-1da7dcf2b7f3"
      },
      "execution_count": null,
      "outputs": [
        {
          "output_type": "error",
          "ename": "ValueError",
          "evalue": "all the input arrays must have same number of dimensions, but the array at index 0 has 2 dimension(s) and the array at index 1 has 1 dimension(s)",
          "traceback": [
            "\u001b[0;31m---------------------------------------------------------------------------\u001b[0m",
            "\u001b[0;31mValueError\u001b[0m                                Traceback (most recent call last)",
            "\u001b[0;32m<ipython-input-63-d892859fea0c>\u001b[0m in \u001b[0;36m<cell line: 4>\u001b[0;34m()\u001b[0m\n\u001b[1;32m      2\u001b[0m \u001b[0marray7\u001b[0m \u001b[0;34m=\u001b[0m \u001b[0mnp\u001b[0m\u001b[0;34m.\u001b[0m\u001b[0marray\u001b[0m\u001b[0;34m(\u001b[0m\u001b[0;34m[\u001b[0m\u001b[0;36m7\u001b[0m\u001b[0;34m,\u001b[0m \u001b[0;36m8\u001b[0m\u001b[0;34m,\u001b[0m \u001b[0;36m9\u001b[0m\u001b[0;34m]\u001b[0m\u001b[0;34m)\u001b[0m\u001b[0;34m\u001b[0m\u001b[0;34m\u001b[0m\u001b[0m\n\u001b[1;32m      3\u001b[0m \u001b[0;34m\u001b[0m\u001b[0m\n\u001b[0;32m----> 4\u001b[0;31m \u001b[0mconcat_error\u001b[0m \u001b[0;34m=\u001b[0m \u001b[0mnp\u001b[0m\u001b[0;34m.\u001b[0m\u001b[0mconcatenate\u001b[0m\u001b[0;34m(\u001b[0m\u001b[0;34m[\u001b[0m\u001b[0marray4\u001b[0m\u001b[0;34m,\u001b[0m \u001b[0marray7\u001b[0m\u001b[0;34m]\u001b[0m\u001b[0;34m,\u001b[0m \u001b[0maxis\u001b[0m\u001b[0;34m=\u001b[0m\u001b[0;36m1\u001b[0m\u001b[0;34m)\u001b[0m\u001b[0;34m\u001b[0m\u001b[0;34m\u001b[0m\u001b[0m\n\u001b[0m",
            "\u001b[0;31mValueError\u001b[0m: all the input arrays must have same number of dimensions, but the array at index 0 has 2 dimension(s) and the array at index 1 has 1 dimension(s)"
          ]
        }
      ]
    },
    {
      "cell_type": "markdown",
      "source": [
        "**Explanation:**\n",
        "- Concatenation along `axis=1` fails because `array7` does not match the row count of `array4`.\n",
        "- Always ensure compatible dimensions for <font color=\"skyblue\">np.concatenate()</font>.\n",
        "\n",
        "\n",
        "\n",
        "---\n",
        "\n"
      ],
      "metadata": {
        "id": "TsDyaKElFDf_"
      }
    }
  ]
}